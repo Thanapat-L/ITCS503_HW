{
 "cells": [
  {
   "cell_type": "markdown",
   "id": "8227722d",
   "metadata": {},
   "source": [
    "# Fibonacci with Dynamic Programming\n"
   ]
  },
  {
   "cell_type": "markdown",
   "id": "7ab8fb00",
   "metadata": {},
   "source": [
    "Optimized version: keeping only last 2 values [Homework 1]\n",
    "Then compute Time and Space Complexity.\n",
    "This is a brilliant algorithm design\n"
   ]
  },
  {
   "cell_type": "code",
   "execution_count": null,
   "id": "0ffcf9d9",
   "metadata": {},
   "outputs": [
    {
     "name": "stdout",
     "output_type": "stream",
     "text": [
      "The 4 and 5 Fibonacci number is: (3, 5)\n"
     ]
    }
   ],
   "source": [
    "def fib(n):\n",
    "    #Get n from user input\n",
    "    a,b = 0,1 #Space complexity is O(1)\n",
    "    #if n is equal to 0 or 1 return a,b\n",
    "    if n == 0 or n == 1:\n",
    "        return a,b\n",
    "    else:\n",
    "        #else loop until n is greater than 1\n",
    "        while n > 1:  #Time complexity is O(n)\n",
    "            #update a,b\n",
    "            a,b = b,a+b\n",
    "            n -= 1\n",
    "        return a,b\n",
    "    \n",
    "x = int(input(\"Enter a number: \"))\n",
    "print(f\"The {x} Fibonacci number is: {fib(x)}\")\n"
   ]
  },
  {
   "cell_type": "markdown",
   "id": "a1907c46",
   "metadata": {},
   "source": [
    "Optimized version: using a global matrix C with size equal to A [Homework 2]\n",
    "Then compute Time and Space Complexity.\n",
    "This is a brilliant algorithm design"
   ]
  },
  {
   "cell_type": "code",
   "execution_count": null,
   "id": "ded83f68",
   "metadata": {},
   "outputs": [
    {
     "name": "stdout",
     "output_type": "stream",
     "text": [
      "[[6, 8]]\n"
     ]
    }
   ],
   "source": [
    "C = None                           #Create a global variable\n",
    "\n",
    "def add_matrix_global(A, B):\n",
    "    global C\n",
    "    n, m = len(A), len(A[0])\n",
    "    if C is None:                       #create C once\n",
    "        C = [[0]*m for _ in range(n)]   #Create a new matrix C with [0]\n",
    "    for i in range(n):\n",
    "        for j in range(m):\n",
    "            C[i][j] = A[i][j] + B[i][j] # overwrite existing C\n",
    "    return C\n",
    "\n",
    "print(add_matrix_global([[1, 2]], [[5, 6]]))"
   ]
  }
 ],
 "metadata": {
  "kernelspec": {
   "display_name": "Python 3",
   "language": "python",
   "name": "python3"
  },
  "language_info": {
   "codemirror_mode": {
    "name": "ipython",
    "version": 3
   },
   "file_extension": ".py",
   "mimetype": "text/x-python",
   "name": "python",
   "nbconvert_exporter": "python",
   "pygments_lexer": "ipython3",
   "version": "3.13.1"
  }
 },
 "nbformat": 4,
 "nbformat_minor": 5
}
