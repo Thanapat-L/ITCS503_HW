{
 "cells": [
  {
   "cell_type": "code",
   "execution_count": null,
   "id": "505f27d4",
   "metadata": {},
   "outputs": [
    {
     "name": "stdout",
     "output_type": "stream",
     "text": [
      "Level 0: A\n",
      "Level 4: K L M N O P\n"
     ]
    },
    {
     "ename": "",
     "evalue": "",
     "output_type": "error",
     "traceback": [
      "\u001b[1;31mThe Kernel crashed while executing code in the current cell or a previous cell. \n",
      "\u001b[1;31mPlease review the code in the cell(s) to identify a possible cause of the failure. \n",
      "\u001b[1;31mClick <a href='https://aka.ms/vscodeJupyterKernelCrash'>here</a> for more info. \n",
      "\u001b[1;31mView Jupyter <a href='command:jupyter.viewOutput'>log</a> for further details."
     ]
    }
   ],
   "source": [
    "class Node:\n",
    "    def __init__(self,v):\n",
    "        self.v = v\n",
    "        self.left = None\n",
    "        self.right = None\n",
    "\n",
    "# Create a print function for print the selected levels\n",
    "def print_selected_levels(root, selected_levels):\n",
    "    if root is None:\n",
    "        return\n",
    "    \n",
    "    q = [(root, 0)]\n",
    "    levels = {x: [] for x in selected_levels}\n",
    "    \n",
    "    while q:\n",
    "        node, level = q.pop(0)\n",
    "        \n",
    "        if level in levels:\n",
    "            levels[level].append(node.v)\n",
    "        \n",
    "        if node.left:\n",
    "            q.append((node.left, level+1))\n",
    "        if node.right:\n",
    "            q.append((node.right, level+1))\n",
    "    \n",
    "    for x in sorted(levels):\n",
    "        print(f\"Level {x}: {' '.join(levels[x])}\")\n",
    "\n",
    "\n",
    "#Create a root \n",
    "if __name__ == '__main__':\n",
    "    root = Node('A')\n",
    "    root.left = Node('B')\n",
    "    root.right = Node('C')\n",
    "    root.left.left = Node('D')\n",
    "    root.left.right = Node('E')\n",
    "    root.right.left = Node('G')\n",
    "    root.right.right = Node('F')\n",
    "    root.left.left.left = Node('H')\n",
    "    root.left.right.left = Node('I')\n",
    "    root.right.right.left = Node('J')\n",
    "    root.left.left.left.left = Node('K')\n",
    "    root.left.left.left.right = Node('L')\n",
    "    root.left.right.left.left = Node('M')\n",
    "    root.left.right.left.right = Node('N')\n",
    "    root.right.right.left.left = Node('O')\n",
    "    root.right.right.left.right = Node('P')\n",
    "\n",
    "print_selected_levels(root, [0, 4])"
   ]
  }
 ],
 "metadata": {
  "kernelspec": {
   "display_name": "Python 3",
   "language": "python",
   "name": "python3"
  },
  "language_info": {
   "codemirror_mode": {
    "name": "ipython",
    "version": 3
   },
   "file_extension": ".py",
   "mimetype": "text/x-python",
   "name": "python",
   "nbconvert_exporter": "python",
   "pygments_lexer": "ipython3",
   "version": "3.13.1"
  }
 },
 "nbformat": 4,
 "nbformat_minor": 5
}
