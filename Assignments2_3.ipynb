{
 "cells": [
  {
   "cell_type": "code",
   "execution_count": null,
   "id": "505f27d4",
   "metadata": {},
   "outputs": [
    {
     "name": "stdout",
     "output_type": "stream",
     "text": [
      "K\n",
      "H\n",
      "L\n",
      "D\n",
      "B\n",
      "M\n",
      "I\n",
      "N\n",
      "E\n",
      "A\n",
      "G\n",
      "C\n",
      "O\n",
      "J\n",
      "P\n",
      "F\n"
     ]
    }
   ],
   "source": [
    "class Node:\n",
    "    def __init__(self,v):\n",
    "        self.v = v\n",
    "        self.left = None\n",
    "        self.right = None\n",
    "\n",
    "# Create a print function for inorder traversal\n",
    "def printInorder(node):\n",
    "    if node is None:\n",
    "        return\n",
    "\n",
    "    printInorder(node.left)\n",
    "    print(node.v)\n",
    "    printInorder(node.right)\n",
    "\n",
    "\n",
    "#Create a root \n",
    "if __name__ == '__main__':\n",
    "    root = Node('A')\n",
    "    root.left = Node('B')\n",
    "    root.right = Node('C')\n",
    "    root.left.left = Node('D')\n",
    "    root.left.right = Node('E')\n",
    "    root.right.left = Node('G')\n",
    "    root.right.right = Node('F')\n",
    "    root.left.left.left = Node('H')\n",
    "    root.left.right.left = Node('I')\n",
    "    root.right.right.left = Node('J')\n",
    "    root.left.left.left.left = Node('K')\n",
    "    root.left.left.left.right = Node('L')\n",
    "    root.left.right.left.left = Node('M')\n",
    "    root.left.right.left.right = Node('N')\n",
    "    root.right.right.left.left = Node('O')\n",
    "    root.right.right.left.right = Node('P')\n",
    "    \n",
    "    printInorder(root)"
   ]
  }
 ],
 "metadata": {
  "kernelspec": {
   "display_name": "Python 3",
   "language": "python",
   "name": "python3"
  },
  "language_info": {
   "codemirror_mode": {
    "name": "ipython",
    "version": 3
   },
   "file_extension": ".py",
   "mimetype": "text/x-python",
   "name": "python",
   "nbconvert_exporter": "python",
   "pygments_lexer": "ipython3",
   "version": "3.13.1"
  }
 },
 "nbformat": 4,
 "nbformat_minor": 5
}
