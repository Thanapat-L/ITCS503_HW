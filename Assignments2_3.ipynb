{
 "cells": [
  {
   "cell_type": "code",
   "execution_count": null,
   "id": "505f27d4",
   "metadata": {},
   "outputs": [],
   "source": [
    "class Node:\n",
    "    def __init__(self,v):\n",
    "        self.v = v\n",
    "        self.left = None\n",
    "        self.right = None\n",
    "        \n",
    "def printInotder(node):\n",
    "    if node is None:\n",
    "        return\n",
    "    \n",
    "    printInotder(node.left)\n",
    "    printInotder(node.right)\n",
    "    \n",
    "    \n",
    "if __name__ == '__main__':\n",
    "    root = Node('Ve')\n",
    "    root.left = Node('B')\n",
    "    root.right = Node('C')\n",
    "    root.left.left = Node('D')\n",
    "    root.left.right = Node('E')\n",
    "    root.right.left = Node('G')\n",
    "    root.right.right = Node('F')\n",
    "    root.left.left.left = Node('H')\n",
    "    root.left.right.left = Node('I')\n",
    "    root.right.right.left = Node('J')\n",
    "    root.left.left.left.left = Node('K')\n",
    "    root.left.left.left.right = Node('L')\n",
    "    root.left.right.left.left = Node('M')\n",
    "    root.left.right.left.right = Node('N')\n",
    "    root.right.right.left.left = Node('O')\n",
    "    root.right.right.left.right = Node('P')\n",
    "    \n",
    "    printInotder(root)"
   ]
  }
 ],
 "metadata": {
  "kernelspec": {
   "display_name": "Python 3",
   "language": "python",
   "name": "python3"
  },
  "language_info": {
   "codemirror_mode": {
    "name": "ipython",
    "version": 3
   },
   "file_extension": ".py",
   "mimetype": "text/x-python",
   "name": "python",
   "nbconvert_exporter": "python",
   "pygments_lexer": "ipython3",
   "version": "3.13.1"
  }
 },
 "nbformat": 4,
 "nbformat_minor": 5
}
