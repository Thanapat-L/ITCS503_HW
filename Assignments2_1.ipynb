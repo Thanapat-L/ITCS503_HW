{
 "cells": [
  {
   "cell_type": "code",
   "execution_count": null,
   "id": "dd232577",
   "metadata": {},
   "outputs": [
    {
     "name": "stdout",
     "output_type": "stream",
     "text": [
      "jihgfedcba\n"
     ]
    }
   ],
   "source": [
    "# 1. Write a function that reverses a string rev_string(str) using a stack.\n",
    "\n",
    "def rev_string(s):\n",
    "    # Create a stack\n",
    "    stack = []\n",
    "\n",
    "    # Push all characters of the string onto the stack\n",
    "    for char in s:\n",
    "        stack.append(char)\n",
    "\n",
    "    # Pop all characters from the stack to get the reversed string\n",
    "    reversed_str = ''\n",
    "    while stack:\n",
    "        reversed_str += stack.pop()\n",
    "    return reversed_str\n",
    "\n",
    "\n",
    "stack = ['a', 'b', 'c', 'd', 'e', 'f', 'g', 'h', 'i', 'j']\n",
    "output = rev_string(stack)\n",
    "print(output)"
   ]
  },
  {
   "cell_type": "code",
   "execution_count": null,
   "id": "7b4f9f3f",
   "metadata": {},
   "outputs": [
    {
     "name": "stdout",
     "output_type": "stream",
     "text": [
      "['5+6', '7+8', '4+3', '(7+8)/(4+3)']\n"
     ]
    }
   ],
   "source": [
    "# 2. Consider an arithmetic expression such as (5+6)*((7+8)/(4+3)). Write a function show_p_order(str)\n",
    "# that uses a stack to show the order of computation for each parenthesis group.\n",
    "\n",
    "def show_p_order(str):\n",
    "    # Create a stack\n",
    "    stack = []\n",
    "    order = []\n",
    "\n",
    "    # Get the current string and index of each parenthesis\n",
    "    for i, char in enumerate(str):\n",
    "        #If that is an opening parenthesis\n",
    "        if char == '(':\n",
    "            # Push the current index onto the stack\n",
    "            stack.append(i)\n",
    "        #If that is a closing parenthesis\n",
    "        elif char == ')':\n",
    "            #If there is a matching opening parenthesis, pop the last opening parenthesis index from the stack\n",
    "            if stack:\n",
    "                start = stack.pop()\n",
    "                order.append(str[start + 1:i])\n",
    "    return order\n",
    "\n",
    "str = \"(5+6)*((7+8)/(4+3))\"\n",
    "output = show_p_order(str)\n",
    "print(output)\n"
   ]
  },
  {
   "cell_type": "code",
   "execution_count": null,
   "id": "ecc5077e",
   "metadata": {},
   "outputs": [
    {
     "name": "stdout",
     "output_type": "stream",
     "text": [
      "(5*6)+(101/5)\n",
      "5+(6*7)\n",
      "(5*6)+(10/5)\n"
     ]
    }
   ],
   "source": [
    "# 3. Consider arithmetic expressions such as 5+6*7 and 5*6+10/5. Write a function that insert parentheses\n",
    "# into the arithmetic expressions insert_paren(str) using a stack \n",
    "\n",
    "def insert_paren(input_str):\n",
    "    # Create a stack\n",
    "    num = []\n",
    "    stack = []\n",
    "    #Get the char and index of each character in the input string\n",
    "    for i, char in enumerate(input_str):\n",
    "        #If the character is a digit, append it to the stack\n",
    "        if char.isdigit():\n",
    "            stack.append(char)\n",
    "            #If the current character is the last character in the string\n",
    "            if i == len(input_str)-1:\n",
    "                #Join the stack and append it to the num list\n",
    "                num.append(''.join(stack))\n",
    "                stack = []\n",
    "        else:\n",
    "            #If the stack is not empty, join the stack and append it to the num list\n",
    "            if stack:\n",
    "                num.append(''.join(stack))\n",
    "                stack = []\n",
    "            #If the character is an operator\n",
    "            if char in '+-*/':\n",
    "                num.append(char)\n",
    "                \n",
    "    #Now get the num list and insert parentheses around the multiplication and division operations\n",
    "    output = []\n",
    "    for i,char in enumerate(num):\n",
    "        if char in '*/':\n",
    "            prev = num[i-1]\n",
    "            next = num[i+1]\n",
    "            output.pop()\n",
    "            num.pop(i+1)\n",
    "            output.append('('+ prev + char + next + ')')\n",
    "        else:output.append(char)\n",
    "    return ''.join(output)\n",
    "\n",
    "print(insert_paren(\"5*6+101/5\"))\n",
    "print(insert_paren(\"5+6*7\"))\n",
    "print(insert_paren(\"5*6+10/5\"))"
   ]
  },
  {
   "cell_type": "code",
   "execution_count": null,
   "id": "e94a5b78",
   "metadata": {},
   "outputs": [
    {
     "name": "stdout",
     "output_type": "stream",
     "text": [
      "11\n"
     ]
    }
   ],
   "source": [
    "# 4. Write a function that converts a natural number to the corresponding binary number as a string\n",
    "# dec2bin(int) using a stack.\n",
    "\n",
    "def dec2bin(int):\n",
    "    # Create a stack\n",
    "    stack = []\n",
    "    # Convert the integer to binary using a stack\n",
    "    while int > 0:\n",
    "        ans = int % 2\n",
    "        stack.append(str(ans))\n",
    "        int = int // 2\n",
    "    #Join the stack and use reversed to get the correct order\n",
    "    return ''.join(reversed(stack))\n",
    "\n",
    "print(dec2bin(3))"
   ]
  }
 ],
 "metadata": {
  "kernelspec": {
   "display_name": "Python 3",
   "language": "python",
   "name": "python3"
  },
  "language_info": {
   "codemirror_mode": {
    "name": "ipython",
    "version": 3
   },
   "file_extension": ".py",
   "mimetype": "text/x-python",
   "name": "python",
   "nbconvert_exporter": "python",
   "pygments_lexer": "ipython3",
   "version": "3.13.7"
  }
 },
 "nbformat": 4,
 "nbformat_minor": 5
}
