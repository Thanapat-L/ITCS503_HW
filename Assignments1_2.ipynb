{
 "cells": [
  {
   "cell_type": "code",
   "execution_count": null,
   "id": "54bef7d7",
   "metadata": {},
   "outputs": [
    {
     "name": "stdout",
     "output_type": "stream",
     "text": [
      "Twinkle, twinkle, little star,\n",
      "\tHow I wonder what you are!\n",
      "\t\tUp above the world so high,\n",
      "\t\tLike a diamond in the sky.\n",
      "Twinkle, twinkle, little star,\n",
      "\tHow I wonder what you are\n"
     ]
    }
   ],
   "source": [
    "# 1. Formatted Twinkle Poem\n",
    "\n",
    "# Write a Python program to print the following string in a specific format (see the output).\n",
    "# Sample String : \"Twinkle, twinkle, little star, How I wonder what you are! Up above the world so high, Like a diamond in the sky. Twinkle, twinkle, little star, How I wonder what you are\"\n",
    "# Output :\n",
    "\n",
    "# Twinkle, twinkle, little star,\n",
    "# \tHow I wonder what you are! \n",
    "# \t\tUp above the world so high,   \t\t\n",
    "# \t\tLike a diamond in the sky. \n",
    "# Twinkle, twinkle, little star, \n",
    "# \tHow I wonder what you are\n",
    "\n",
    "print(\"Twinkle, twinkle, little star,\\n\\tHow I wonder what you are!\\n\\t\\tUp above the world so high,\\n\\t\\tLike a diamond in the sky.\\nTwinkle, twinkle, little star,\\n\\tHow I wonder what you are\")\n",
    "\n"
   ]
  },
  {
   "cell_type": "code",
   "execution_count": null,
   "id": "ce3d4afd",
   "metadata": {},
   "outputs": [
    {
     "name": "stdout",
     "output_type": "stream",
     "text": [
      "3.13.6 (tags/v3.13.6:4e66535, Aug  6 2025, 14:36:00) [MSC v.1944 64 bit (AMD64)]\n"
     ]
    }
   ],
   "source": [
    "# 2. Python Version Checker\n",
    "\n",
    "# Write a Python program to find out what version of Python you are using.\n",
    "\n",
    "import sys\n",
    "\n",
    "print(sys.version)"
   ]
  },
  {
   "cell_type": "code",
   "execution_count": null,
   "id": "a7af2853",
   "metadata": {},
   "outputs": [
    {
     "name": "stdout",
     "output_type": "stream",
     "text": [
      "Current date and time:\n",
      "2025-08-15 09:05:37\n"
     ]
    }
   ],
   "source": [
    "# 3. Current DateTime Display\n",
    "\n",
    "# Write a Python program to display the current date and time.\n",
    "# Sample Output :\n",
    "# Current date and time :\n",
    "# 2014-07-05 14:34:14\n",
    "\n",
    "from datetime import datetime\n",
    "\n",
    "now = datetime.now()\n",
    "print(\"Current date and time:\")\n",
    "print(now.strftime(\"%Y-%m-%d %H:%M:%S\"))"
   ]
  },
  {
   "cell_type": "code",
   "execution_count": 7,
   "id": "ae470f31",
   "metadata": {},
   "outputs": [
    {
     "name": "stdout",
     "output_type": "stream",
     "text": [
      "Area = 78.53981633974483\n"
     ]
    }
   ],
   "source": [
    "# 4. Circle Area Calculator\n",
    "\n",
    "# Write a Python program that calculates the area of a circle based on the radius entered by the user.\n",
    "# Sample Output :\n",
    "# r = 1.1\n",
    "# Area = 3.8013271108436504\n",
    "\n",
    "from math import pi\n",
    "\n",
    "radius = float(input(\"Enter the radius of the circle: \"))\n",
    "area = pi * radius * radius\n",
    "print(f\"Area = {area}\")"
   ]
  },
  {
   "cell_type": "code",
   "execution_count": 8,
   "id": "5837b0f0",
   "metadata": {},
   "outputs": [
    {
     "name": "stdout",
     "output_type": "stream",
     "text": [
      "Reversed Name: Lao N\n"
     ]
    }
   ],
   "source": [
    "# 5. Reverse Full Name\n",
    "\n",
    "# Write a Python program that accepts the user's first and last name and prints them in reverse order with a space between them.\n",
    "\n",
    "first_name = input(\"Enter your first name: \")\n",
    "last_name = input(\"Enter your last name: \")\n",
    "print(f\"Reversed Name: {last_name} {first_name}\")"
   ]
  },
  {
   "cell_type": "code",
   "execution_count": 10,
   "id": "a26db235",
   "metadata": {},
   "outputs": [
    {
     "name": "stdout",
     "output_type": "stream",
     "text": [
      "List : ['1', '2', '3', '1', '1', '2', '3', '4', '5', '6']\n",
      "Tuple : ('1', '2', '3', '1', '1', '2', '3', '4', '5', '6')\n"
     ]
    }
   ],
   "source": [
    "# 6. List and Tuple Generator\n",
    "\n",
    "# Write a Python program that accepts a sequence of comma-separated numbers from the user and generates a list and a tuple of those numbers.\n",
    "# Sample data : 3, 5, 7, 23\n",
    "# Output :\n",
    "# List : ['3', ' 5', ' 7', ' 23']\n",
    "# Tuple : ('3', ' 5', ' 7', ' 23')\n",
    "\n",
    "numbers = input(\"Enter comma-separated numbers: \")\n",
    "number_list = numbers.split(\",\")\n",
    "number_tuple = tuple(number_list)\n",
    "number_list = [num.strip() for num in number_list]\n",
    "print(f\"List : {number_list}\")\n",
    "print(f\"Tuple : {number_tuple}\")"
   ]
  },
  {
   "cell_type": "code",
   "execution_count": 11,
   "id": "22405f0f",
   "metadata": {},
   "outputs": [
    {
     "name": "stdout",
     "output_type": "stream",
     "text": [
      "File extension: java\n"
     ]
    }
   ],
   "source": [
    "# 7. File Extension Extractor\n",
    "\n",
    "# Write a Python program that accepts a filename from the user and prints the extension of the file.\n",
    "# Sample filename : abc.java\n",
    "# Output : java\n",
    "\n",
    "filename = input(\"Enter the filename: \")\n",
    "file_extension = filename.split(\".\")[-1]\n",
    "print(f\"File extension: {file_extension}\")"
   ]
  },
  {
   "cell_type": "code",
   "execution_count": 12,
   "id": "786b05d3",
   "metadata": {},
   "outputs": [
    {
     "name": "stdout",
     "output_type": "stream",
     "text": [
      "First color: Red\n",
      "Last color: Black\n"
     ]
    }
   ],
   "source": [
    "# 8. First and Last Colors\n",
    "\n",
    "# Write a Python program to display the first and last colors from the following list.\n",
    "\n",
    "color_list = [\"Red\",\"Green\",\"White\" ,\"Black\"]\n",
    "print(f\"First color: {color_list[0]}\")\n",
    "print(f\"Last color: {color_list[-1]}\")\n"
   ]
  },
  {
   "cell_type": "code",
   "execution_count": 13,
   "id": "73d5d46e",
   "metadata": {},
   "outputs": [
    {
     "name": "stdout",
     "output_type": "stream",
     "text": [
      "The examination will start from : 11 / 12 / 2014\n"
     ]
    }
   ],
   "source": [
    "# 9. Exam Schedule Formatter\n",
    "\n",
    "# Write a Python program to display the examination schedule. (extract the date from exam_st_date).\n",
    "# exam_st_date = (11, 12, 2014)\n",
    "# Sample Output : The examination will start from : 11 / 12 / 2014\n",
    "\n",
    "exam_st_date = (11, 12, 2014)\n",
    "print(f\"The examination will start from : {exam_st_date[0]} / {exam_st_date[1]} / {exam_st_date[2]}\")"
   ]
  },
  {
   "cell_type": "code",
   "execution_count": 14,
   "id": "971f19a6",
   "metadata": {},
   "outputs": [
    {
     "name": "stdout",
     "output_type": "stream",
     "text": [
      "Result: 615\n"
     ]
    }
   ],
   "source": [
    "# 10. Number Expansion Calculator\n",
    "\n",
    "# Write a Python program that accepts an integer (n) and computes the value of n+nn+nnn.\n",
    "# Sample value of n is 5\n",
    "# Expected Result : 615\n",
    "\n",
    "n = input(\"Enter an integer: \")\n",
    "result = int(n) + int(n*2) + int(n*3)\n",
    "print(f\"Result: {result}\")"
   ]
  },
  {
   "cell_type": "code",
   "execution_count": 19,
   "id": "ee3600cc",
   "metadata": {},
   "outputs": [
    {
     "name": "stdout",
     "output_type": "stream",
     "text": [
      "abs(number) -> number\n",
      "Return the absolute value of the argument.\n"
     ]
    }
   ],
   "source": [
    "# 11. Function Documentation Printer\n",
    "\n",
    "# Write a Python program to print the documents (syntax, description etc.) of Python built-in function(s).\n",
    "# Sample function : abs()\n",
    "# Expected Result :\n",
    "# abs(number) -> number\n",
    "# Return the absolute value of the argument.\n",
    "\n",
    "\n",
    "print(\"abs(number) -> number\")\n",
    "print(abs.__doc__)"
   ]
  },
  {
   "cell_type": "code",
   "execution_count": 21,
   "id": "1eaee54e",
   "metadata": {},
   "outputs": [
    {
     "name": "stdout",
     "output_type": "stream",
     "text": [
      "    August 2025\n",
      "Mo Tu We Th Fr Sa Su\n",
      "             1  2  3\n",
      " 4  5  6  7  8  9 10\n",
      "11 12 13 14 15 16 17\n",
      "18 19 20 21 22 23 24\n",
      "25 26 27 28 29 30 31\n",
      "\n"
     ]
    }
   ],
   "source": [
    "# 12. Monthly Calendar Display\n",
    "\n",
    "# Write a Python program that prints the calendar for a given month and year.\n",
    "# Note : Use 'calendar' module.\n",
    "\n",
    "import calendar\n",
    "\n",
    "year = int(input(\"Enter year: \"))\n",
    "month = int(input(\"Enter month: \"))\n",
    "print(calendar.month(year, month))"
   ]
  },
  {
   "cell_type": "code",
   "execution_count": 22,
   "id": "1b838932",
   "metadata": {},
   "outputs": [
    {
     "name": "stdout",
     "output_type": "stream",
     "text": [
      "a string that you \"don't\" have to escape\n",
      "This\n",
      "is a ....... multi-line\n",
      "heredoc string --------> example\n"
     ]
    }
   ],
   "source": [
    "# 13. Multi-line Here Document\n",
    "\n",
    "# Write a Python program to print the following 'here document'.\n",
    "# Sample string :\n",
    "# a string that you \"don't\" have to escape\n",
    "# This\n",
    "# is a ....... multi-line\n",
    "# heredoc string --------> example\n",
    "\n",
    "print(\"\"\"a string that you \"don't\" have to escape\n",
    "This\n",
    "is a ....... multi-line\n",
    "heredoc string --------> example\"\"\")"
   ]
  },
  {
   "cell_type": "code",
   "execution_count": 23,
   "id": "59b5c3b9",
   "metadata": {},
   "outputs": [
    {
     "name": "stdout",
     "output_type": "stream",
     "text": [
      "9 days\n"
     ]
    }
   ],
   "source": [
    "# 14. Days Between Dates\n",
    "\n",
    "# Write a Python program to calculate the number of days between two dates.\n",
    "# Sample dates : (2014, 7, 2), (2014, 7, 11)\n",
    "# Expected output : 9 days\n",
    "\n",
    "from datetime import date\n",
    "\n",
    "date1 = date(2014, 7, 2)\n",
    "date2 = date(2014, 7, 11)\n",
    "delta = date2 - date1\n",
    "print(f\"{delta.days} days\")"
   ]
  },
  {
   "cell_type": "code",
   "execution_count": 24,
   "id": "76e8b014",
   "metadata": {},
   "outputs": [
    {
     "name": "stdout",
     "output_type": "stream",
     "text": [
      "Volume of the sphere with radius 6 is: 904.7786842338603\n"
     ]
    }
   ],
   "source": [
    "# 15. Sphere Volume Calculator\n",
    "\n",
    "# Write a Python program to get the volume of a sphere with radius six.\n",
    "from math import pi\n",
    "\n",
    "radius = 6\n",
    "volume = (4/3) * pi * (radius ** 3)\n",
    "print(f\"Volume of the sphere with radius {radius} is: {volume}\")"
   ]
  },
  {
   "cell_type": "code",
   "execution_count": 26,
   "id": "20329d6f",
   "metadata": {},
   "outputs": [
    {
     "name": "stdout",
     "output_type": "stream",
     "text": [
      "Difference from 17: 6\n"
     ]
    }
   ],
   "source": [
    "# 16. Difference from 17\n",
    "\n",
    "# Write a Python program to calculate the difference between a given number and 17. If the number is greater than 17, return twice the absolute difference.\n",
    "def difference_from_17(n):\n",
    "    if n > 17:\n",
    "        return (n - 17) * 2\n",
    "    else:\n",
    "        return 17 - n\n",
    "    \n",
    "n = int(input(\"Enter a number: \"))\n",
    "result = difference_from_17(n)\n",
    "print(f\"Difference from 17: {result}\")"
   ]
  },
  {
   "cell_type": "code",
   "execution_count": 31,
   "id": "d99be043",
   "metadata": {},
   "outputs": [
    {
     "name": "stdout",
     "output_type": "stream",
     "text": [
      "Is the number within range? True\n"
     ]
    }
   ],
   "source": [
    "# 17. Number Range Tester\n",
    "\n",
    "# Write a Python program to test whether a number is within 100 of 1000 or 2000.\n",
    "\n",
    "def is_within_range(n):\n",
    "    return (abs(1000 - n) <= 100) or (abs(2000 - n) <= 100)\n",
    "\n",
    "n = int(input(\"Enter a number: \"))\n",
    "result = is_within_range(n)\n",
    "print(f\"Is the number within range? {result}\")"
   ]
  },
  {
   "cell_type": "code",
   "execution_count": 33,
   "id": "f03d6a2d",
   "metadata": {},
   "outputs": [
    {
     "name": "stdout",
     "output_type": "stream",
     "text": [
      "Result: 9\n"
     ]
    }
   ],
   "source": [
    "# 18. Triple Sum Calculator\n",
    "\n",
    "# Write a Python program to calculate the sum of three given numbers. If the values are equal, return three times their sum.\n",
    "\n",
    "def triple_sum(a, b, c):\n",
    "    if a == b == c:\n",
    "        return 3 * (a + b + c)\n",
    "    else:\n",
    "        return a + b + c\n",
    "    \n",
    "a = int(input(\"Enter first number: \"))\n",
    "b = int(input(\"Enter second number: \"))\n",
    "c = int(input(\"Enter third number: \"))\n",
    "result = triple_sum(a, b, c)\n",
    "print(f\"Result: {result}\")"
   ]
  },
  {
   "cell_type": "code",
   "execution_count": 35,
   "id": "8c1ff4d4",
   "metadata": {},
   "outputs": [
    {
     "name": "stdout",
     "output_type": "stream",
     "text": [
      "Modified string: Isksass\n"
     ]
    }
   ],
   "source": [
    "# 19. Prefix \"Is\" String Modifier\n",
    "\n",
    "# Write a Python program to get a newly-generated string from a given string where \"Is\" has been added to the front. Return the string unchanged if the given string already begins with \"Is\".\n",
    "\n",
    "def add_is_prefix(s):\n",
    "    if s.startswith(\"Is\"):\n",
    "        return s\n",
    "    else:\n",
    "        return \"Is\" + s\n",
    "    \n",
    "s = input(\"Enter a string: \")\n",
    "result = add_is_prefix(s)\n",
    "print(f\"Modified string: {result}\")"
   ]
  },
  {
   "cell_type": "code",
   "execution_count": 36,
   "id": "2f8d39e4",
   "metadata": {},
   "outputs": [
    {
     "name": "stdout",
     "output_type": "stream",
     "text": [
      "Copied string: abcabcabc\n"
     ]
    }
   ],
   "source": [
    "# 20. String Copy Generator\n",
    "\n",
    "# Write a Python program that returns a string that is n (non-negative integer) copies of a given string.\n",
    "\n",
    "def string_copy(s, n):\n",
    "    return s * n\n",
    "\n",
    "s = input(\"Enter a string: \")\n",
    "n = int(input(\"Enter number of copies: \"))\n",
    "result = string_copy(s, n)\n",
    "print(f\"Copied string: {result}\")"
   ]
  },
  {
   "cell_type": "code",
   "execution_count": 40,
   "id": "6f4361c4",
   "metadata": {},
   "outputs": [
    {
     "name": "stdout",
     "output_type": "stream",
     "text": [
      "The number 24214121 is: Odd\n"
     ]
    }
   ],
   "source": [
    "# 21. Even or Odd Checker\n",
    "\n",
    "# Write a Python program that determines whether a given number (accepted from the user) is even or odd, and prints an appropriate message to the user.\n",
    "\n",
    "def is_even_or_odd(n):\n",
    "    if n % 2 == 0:\n",
    "        return \"Even\"\n",
    "    else:\n",
    "        return \"Odd\"\n",
    "    \n",
    "n = int(input(\"Enter a number: \"))\n",
    "result = is_even_or_odd(n)\n",
    "print(f\"The number {n} is: {result}\")"
   ]
  },
  {
   "cell_type": "code",
   "execution_count": 42,
   "id": "283dd942",
   "metadata": {},
   "outputs": [
    {
     "name": "stdout",
     "output_type": "stream",
     "text": [
      "Count of 4 in the list: 5\n"
     ]
    }
   ],
   "source": [
    "# 22. Count 4 in List\n",
    "\n",
    "# Write a Python program to count the number 4 in a given list.\n",
    "\n",
    "def count_fours(lst):\n",
    "    return lst.count(4)\n",
    "\n",
    "lst = [1, 2, 4, 4, 3, 4, 5, 4, 2, 66, 3, 4]\n",
    "result = count_fours(lst)\n",
    "print(f\"Count of 4 in the list: {result}\")"
   ]
  },
  {
   "cell_type": "code",
   "execution_count": 46,
   "id": "d30acafa",
   "metadata": {},
   "outputs": [
    {
     "name": "stdout",
     "output_type": "stream",
     "text": [
      "Copied string: abababab\n"
     ]
    }
   ],
   "source": [
    "# 23. String Prefix Copies\n",
    "\n",
    "# Write a Python program to get n (non-negative integer) copies of the first 2 characters of a given string. Return n copies of the whole string if the length is less than 2.\n",
    "\n",
    "def prefix_copies(s, n):\n",
    "    if len(s) < 2:\n",
    "        return s * n\n",
    "    else:\n",
    "        return s[:2] * n\n",
    "    \n",
    "s = input(\"Enter a string: \")\n",
    "n = int(input(\"Enter number of copies: \"))\n",
    "result = prefix_copies(s, n)\n",
    "print(f\"Copied string: {result}\")"
   ]
  },
  {
   "cell_type": "code",
   "execution_count": 49,
   "id": "a96c2ef7",
   "metadata": {},
   "outputs": [
    {
     "name": "stdout",
     "output_type": "stream",
     "text": [
      "Is the letter 'a' a vowel? True\n"
     ]
    }
   ],
   "source": [
    "# 24. Vowel Tester\n",
    "\n",
    "# Write a Python program to test whether a passed letter is a vowel or not.\n",
    "\n",
    "def is_vowel(letter):\n",
    "    vowels = \"aeiouAEIOU\"\n",
    "    return letter in vowels\n",
    "\n",
    "letter = input(\"Enter a letter: \")\n",
    "result = is_vowel(letter)\n",
    "print(f\"Is the letter '{letter}' a vowel? {result}\")"
   ]
  },
  {
   "cell_type": "code",
   "execution_count": 51,
   "id": "1f9e2f4b",
   "metadata": {},
   "outputs": [
    {
     "name": "stdout",
     "output_type": "stream",
     "text": [
      "Is the value 1 in the group [1, 5, 8, 3]? True\n"
     ]
    }
   ],
   "source": [
    "# 25. Value in Group Tester\n",
    "\n",
    "# Write a Python program that checks whether a specified value is contained within a group of values.\n",
    "# Test Data :\n",
    "# 3 -> [1, 5, 8, 3] : True\n",
    "# -1 -> [1, 5, 8, 3] : False\n",
    "\n",
    "def is_value_in_group(value, group):\n",
    "    return value in group\n",
    "\n",
    "value = int(input(\"Enter a value: \"))\n",
    "group = [1, 5, 8, 3]\n",
    "result = is_value_in_group(value, group)\n",
    "print(f\"Is the value {value} in the group {group}? {result}\")"
   ]
  },
  {
   "cell_type": "code",
   "execution_count": 56,
   "id": "e467d353",
   "metadata": {},
   "outputs": [
    {
     "name": "stdout",
     "output_type": "stream",
     "text": [
      "**\n",
      "***\n",
      "*****\n",
      "*******\n",
      "*\n"
     ]
    }
   ],
   "source": [
    "# 26. List Histogram\n",
    "\n",
    "# Write a Python program to create a histogram from a given list of integers.\n",
    "\n",
    "def create_histogram(lst):\n",
    "    for num in lst:\n",
    "        print('*' * num)\n",
    "        \n",
    "lst = [2, 3, 5, 7, 1]\n",
    "create_histogram(lst)\n"
   ]
  },
  {
   "cell_type": "code",
   "execution_count": 59,
   "id": "51108021",
   "metadata": {},
   "outputs": [
    {
     "name": "stdout",
     "output_type": "stream",
     "text": [
      "Concatenated string: Hello\n"
     ]
    }
   ],
   "source": [
    "# 27. List to String Concatenator\n",
    "\n",
    "# Write a Python program that concatenates all elements in a list into a string and returns it.\n",
    "\n",
    "def list_to_string(lst):\n",
    "    return ''.join(lst)\n",
    "\n",
    "lst = ['H', 'e', 'l', 'l', 'o']\n",
    "result = list_to_string(lst)\n",
    "print(f\"Concatenated string: {result}\")"
   ]
  },
  {
   "cell_type": "code",
   "execution_count": 64,
   "id": "69cdfaf8",
   "metadata": {},
   "outputs": [
    {
     "name": "stdout",
     "output_type": "stream",
     "text": [
      "386\n",
      "462\n",
      "47\n",
      "418\n",
      "907\n",
      "344\n",
      "236\n",
      "375\n",
      "823\n",
      "566\n",
      "597\n",
      "978\n",
      "328\n",
      "615\n",
      "953\n",
      "345\n",
      "399\n",
      "162\n",
      "758\n",
      "219\n",
      "918\n",
      "237\n"
     ]
    }
   ],
   "source": [
    "# 28. Even Numbers Until 237\n",
    "\n",
    "# Write a Python program to print all even numbers from a given list of numbers in the same order and stop printing any after 237 in the sequence.\n",
    "# Sample numbers list :\n",
    "\n",
    "numbers = [    \n",
    "    386, 462, 47, 418, 907, 344, 236, 375, 823, 566, 597, 978, 328, 615, 953, 345, \n",
    "    399, 162, 758, 219, 918, 237, 412, 566, 826, 248, 866, 950, 626, 949, 687, 217, \n",
    "    815, 67, 104, 58, 512, 24, 892, 894, 767, 553, 81, 379, 843, 831, 445, 742, 717, \n",
    "    958,743, 527\n",
    "    ]\n",
    "\n",
    "for num in numbers:\n",
    "    if  num == 237:\n",
    "        print(num)\n",
    "        break\n",
    "    else:\n",
    "        print(num)"
   ]
  },
  {
   "cell_type": "code",
   "execution_count": 66,
   "id": "d0383734",
   "metadata": {},
   "outputs": [
    {
     "name": "stdout",
     "output_type": "stream",
     "text": [
      "Unique colors: {'Black', 'White'}\n"
     ]
    }
   ],
   "source": [
    "# 29. Unique Colors Finder\n",
    "\n",
    "# Write a Python program that prints out all colors from color_list_1 that are not present in color_list_2.\n",
    "# Test Data :\n",
    "color_list_1 = set([\"White\", \"Black\", \"Red\"])\n",
    "color_list_2 = set([\"Red\", \"Green\"])\n",
    "# Expected Output :\n",
    "# {'Black', 'White'}\n",
    "\n",
    "unique_colors = color_list_1 - color_list_2\n",
    "print(f\"Unique colors: {unique_colors}\")"
   ]
  },
  {
   "cell_type": "code",
   "execution_count": 67,
   "id": "856e1d24",
   "metadata": {},
   "outputs": [
    {
     "name": "stdout",
     "output_type": "stream",
     "text": [
      "Area of the triangle: 18.0\n"
     ]
    }
   ],
   "source": [
    "# 30. Triangle Area Calculator\n",
    "\n",
    "# Write a Python program that will accept the base and height of a triangle and compute its area.\n",
    "\n",
    "def triangle_area(base, height):\n",
    "    return 0.5 * base * height\n",
    "\n",
    "base = float(input(\"Enter the base of the triangle: \"))\n",
    "height = float(input(\"Enter the height of the triangle: \"))\n",
    "area = triangle_area(base, height)\n",
    "print(f\"Area of the triangle: {area}\")"
   ]
  },
  {
   "cell_type": "code",
   "execution_count": 72,
   "id": "9d8ea6aa",
   "metadata": {},
   "outputs": [
    {
     "name": "stdout",
     "output_type": "stream",
     "text": [
      "GCD of 336 and 360 is: 24\n"
     ]
    }
   ],
   "source": [
    "# 31. GCD Calculator\n",
    "\n",
    "# Write a Python program that computes the greatest common divisor (GCD) of two positive integers.\n",
    "from math import gcd\n",
    "\n",
    "def compute_gcd(a, b):\n",
    "    return gcd(a, b)\n",
    "\n",
    "a = int(input(\"Enter first positive integer: \"))\n",
    "b = int(input(\"Enter second positive integer: \"))\n",
    "result = compute_gcd(a, b)\n",
    "print(f\"GCD of {a} and {b} is: {result}\")"
   ]
  },
  {
   "cell_type": "code",
   "execution_count": null,
   "id": "607e88f4",
   "metadata": {},
   "outputs": [],
   "source": [
    "# 32. LCM Calculator\n",
    "\n",
    "# Write a Python program to find the least common multiple (LCM) of two positive integers.\n",
    "def compute_lcm(a, b):\n",
    "    return (a * b) // gcd(a, b)\n",
    "\n",
    "a = int(input(\"Enter first positive integer: \"))\n",
    "b = int(input(\"Enter second positive integer: \"))\n",
    "result = compute_lcm(a, b)\n",
    "print(f\"LCM of {a} and {b} is: {result}\")"
   ]
  },
  {
   "cell_type": "code",
   "execution_count": 74,
   "id": "b750a109",
   "metadata": {},
   "outputs": [
    {
     "name": "stdout",
     "output_type": "stream",
     "text": [
      "Result: 6\n"
     ]
    }
   ],
   "source": [
    "# 33. Triple Sum with Equality Rule\n",
    "\n",
    "# Write a Python program to sum three given integers. However, if two values are equal, the sum will be zero.\n",
    "\n",
    "def triple_sum(a, b, c):\n",
    "    if a == b or b == c or a == c:\n",
    "        return 0\n",
    "    else:\n",
    "        return a + b + c\n",
    "    \n",
    "a = int(input(\"Enter first number: \"))\n",
    "b = int(input(\"Enter second number: \"))\n",
    "c = int(input(\"Enter third number: \"))\n",
    "result = triple_sum(a, b, c)\n",
    "print(f\"Result: {result}\")"
   ]
  },
  {
   "cell_type": "code",
   "execution_count": 75,
   "id": "0334eb1c",
   "metadata": {},
   "outputs": [
    {
     "name": "stdout",
     "output_type": "stream",
     "text": [
      "Result: 20\n"
     ]
    }
   ],
   "source": [
    "# 34. Conditional Sum to 20\n",
    "\n",
    "# Write a Python program to sum two given integers. However, if the sum is between 15 and 20 it will return 20.\n",
    "\n",
    "def conditional_sum(a, b):\n",
    "    total = a + b\n",
    "    if 15 <= total <= 20:\n",
    "        return 20\n",
    "    else:\n",
    "        return total\n",
    "    \n",
    "a = int(input(\"Enter first number: \"))\n",
    "b = int(input(\"Enter second number: \"))\n",
    "result = conditional_sum(a, b)\n",
    "print(f\"Result: {result}\")"
   ]
  },
  {
   "cell_type": "code",
   "execution_count": 76,
   "id": "de6b3bbc",
   "metadata": {},
   "outputs": [
    {
     "name": "stdout",
     "output_type": "stream",
     "text": [
      "Result: True\n"
     ]
    }
   ],
   "source": [
    "# 35. Equality or 5 Rule Checker\n",
    "\n",
    "# Write a Python program that returns true if the two given integer values are equal or their sum or difference is 5.\n",
    "\n",
    "def equality_or_five(a, b):\n",
    "    return a == b or abs(a - b) == 5 or (a + b) == 5\n",
    "\n",
    "a = int(input(\"Enter first integer: \"))\n",
    "b = int(input(\"Enter second integer: \"))\n",
    "result = equality_or_five(a, b)\n",
    "print(f\"Result: {result}\")"
   ]
  },
  {
   "cell_type": "code",
   "execution_count": 77,
   "id": "d491e713",
   "metadata": {},
   "outputs": [
    {
     "name": "stdout",
     "output_type": "stream",
     "text": [
      "Result: 3\n"
     ]
    }
   ],
   "source": [
    "# 36. Add Integers Validator\n",
    "\n",
    "# Write a Python program to add two objects if both objects are integers.\n",
    "\n",
    "def add_integers(a, b):\n",
    "    if isinstance(a, int) and isinstance(b, int):\n",
    "        return a + b\n",
    "    else:\n",
    "        return \"Both objects must be integers\"\n",
    "    \n",
    "a = int(input(\"Enter first integer: \"))\n",
    "b = int(input(\"Enter second integer: \"))\n",
    "result = add_integers(a, b)\n",
    "print(f\"Result: {result}\")"
   ]
  },
  {
   "cell_type": "code",
   "execution_count": 78,
   "id": "4eb26f59",
   "metadata": {},
   "outputs": [
    {
     "name": "stdout",
     "output_type": "stream",
     "text": [
      "Name: N\n",
      "Age: Lao\n",
      "Address: Ekka\n"
     ]
    }
   ],
   "source": [
    "# 37. Personal Info Formatter\n",
    "\n",
    "# Write a Python program that displays your name, age, and address on three different lines.\n",
    "\n",
    "name = input(\"Enter your name: \")\n",
    "age = input(\"Enter your age: \")\n",
    "address = input(\"Enter your address: \")\n",
    "print(f\"Name: {name}\\nAge: {age}\\nAddress: {address}\")"
   ]
  },
  {
   "cell_type": "code",
   "execution_count": 79,
   "id": "4801b0c8",
   "metadata": {},
   "outputs": [
    {
     "name": "stdout",
     "output_type": "stream",
     "text": [
      "(4 + 3) ^ 2 = 49\n"
     ]
    }
   ],
   "source": [
    "# 38. Expression Solver\n",
    "\n",
    "# Write a Python program to solve (x + y) * (x + y).\n",
    "# Test Data : x = 4, y = 3\n",
    "# Expected Output : (4 + 3) ^ 2) = 49\n",
    "\n",
    "def solve_expression(x, y):\n",
    "    return (x + y) ** 2\n",
    "\n",
    "x = 4\n",
    "y = 3\n",
    "result = solve_expression(x, y)\n",
    "print(f\"({x} + {y}) ^ 2 = {result}\")"
   ]
  },
  {
   "cell_type": "code",
   "execution_count": 80,
   "id": "3fb0f6a7",
   "metadata": {},
   "outputs": [
    {
     "name": "stdout",
     "output_type": "stream",
     "text": [
      "Future value: 12722.79\n"
     ]
    }
   ],
   "source": [
    "# 39. Future Value Calculator\n",
    "\n",
    "# Write a Python program to compute the future value of a specified principal amount, rate of interest, and number of years.\n",
    "# Test Data : amt = 10000, int = 3.5, years = 7\n",
    "# Expected Output : 12722.79\n",
    "\n",
    "def future_value(principal, rate, years):\n",
    "    return principal * ((1 + rate / 100) ** years)\n",
    "\n",
    "principal = 10000\n",
    "rate = 3.5\n",
    "years = 7\n",
    "result = future_value(principal, rate, years)\n",
    "print(f\"Future value: {result:.2f}\")"
   ]
  },
  {
   "cell_type": "code",
   "execution_count": 81,
   "id": "3cba15c6",
   "metadata": {},
   "outputs": [
    {
     "name": "stdout",
     "output_type": "stream",
     "text": [
      "Distance between points: 112.00\n"
     ]
    }
   ],
   "source": [
    "# 40. Distance Between Points\n",
    "\n",
    "# Write a Python program to calculate the distance between the points (x1, y1) and (x2, y2).\n",
    "\n",
    "def distance_between_points(x1, y1, x2, y2):\n",
    "    return ((x2 - x1) ** 2 + (y2 - y1) ** 2) ** 0.5\n",
    "\n",
    "x1 = float(input(\"Enter x1: \"))\n",
    "y1 = float(input(\"Enter y1: \"))\n",
    "x2 = float(input(\"Enter x2: \")) \n",
    "y2 = float(input(\"Enter y2: \"))\n",
    "result = distance_between_points(x1, y1, x2, y2)\n",
    "print(f\"Distance between points: {result:.2f}\")"
   ]
  },
  {
   "cell_type": "code",
   "execution_count": 91,
   "id": "da024fa6",
   "metadata": {},
   "outputs": [
    {
     "name": "stdout",
     "output_type": "stream",
     "text": [
      "Current working directory: c:\\Users\\thanapat.laojaroensa\\AppData\\Local\\Programs\\Microsoft VS Code\n",
      "Does the file exist? False\n"
     ]
    }
   ],
   "source": [
    "# 41. File Existence Checker\n",
    "\n",
    "# Write a Python program to check whether a file exists.\n",
    "\n",
    "import os\n",
    "\n",
    "def file_exists(filename):\n",
    "    return os.path.isfile(filename)\n",
    "\n",
    "print(\"Current working directory:\", os.getcwd())\n",
    "filename = input(\"Enter the filename: \")\n",
    "result = file_exists(filename)\n",
    "print(f\"Does the file exist? {result}\")"
   ]
  },
  {
   "cell_type": "code",
   "execution_count": 96,
   "id": "d7043e0e",
   "metadata": {},
   "outputs": [
    {
     "name": "stdout",
     "output_type": "stream",
     "text": [
      "Python shell is running in 64bit mode.\n"
     ]
    }
   ],
   "source": [
    "# 42. Shell Mode Detector\n",
    "\n",
    "# Write a Python program to determine if a Python shell is executing in 32bit or 64bit mode on OS.\n",
    "\n",
    "import platform\n",
    "\n",
    "def shell_mode():\n",
    "    return platform.architecture()[0]\n",
    "\n",
    "mode = shell_mode()\n",
    "print(f\"Python shell is running in {mode} mode.\")"
   ]
  },
  {
   "cell_type": "code",
   "execution_count": 97,
   "id": "8de30e29",
   "metadata": {},
   "outputs": [
    {
     "name": "stdout",
     "output_type": "stream",
     "text": [
      "OS Name: nt\n",
      "Platform: Windows\n",
      "Release: 11\n"
     ]
    }
   ],
   "source": [
    "# 43. OS and Platform Info\n",
    "\n",
    "# Write a Python program to get OS name, platform and release information.\n",
    "\n",
    "import os\n",
    "import platform\n",
    "\n",
    "def os_platform_info():\n",
    "    os_name = os.name\n",
    "    platform_name = platform.system()\n",
    "    release = platform.release()\n",
    "    return os_name, platform_name, release\n",
    "\n",
    "os_name, platform_name, release = os_platform_info()\n",
    "print(f\"OS Name: {os_name}\")\n",
    "print(f\"Platform: {platform_name}\")\n",
    "print(f\"Release: {release}\")"
   ]
  },
  {
   "cell_type": "code",
   "execution_count": 100,
   "id": "6bfffcd9",
   "metadata": {},
   "outputs": [
    {
     "name": "stdout",
     "output_type": "stream",
     "text": [
      "Python site packages locations: ['C:\\\\Program Files\\\\WindowsApps\\\\PythonSoftwareFoundation.Python.3.13_3.13.1776.0_x64__qbz5n2kfra8p0', 'C:\\\\Program Files\\\\WindowsApps\\\\PythonSoftwareFoundation.Python.3.13_3.13.1776.0_x64__qbz5n2kfra8p0\\\\Lib\\\\site-packages']\n"
     ]
    }
   ],
   "source": [
    "# 44. Python Site Packages Locator\n",
    "\n",
    "# Write a Python program to locate Python site packages.\n",
    "\n",
    "import site\n",
    "\n",
    "def locate_site_packages():\n",
    "    site_packages = site.getsitepackages()\n",
    "    return site_packages\n",
    "\n",
    "site_packages = locate_site_packages()\n",
    "print(f\"Python site packages locations: {site_packages}\")"
   ]
  },
  {
   "cell_type": "code",
   "execution_count": 102,
   "id": "b091e012",
   "metadata": {},
   "outputs": [
    {
     "name": "stdout",
     "output_type": "stream",
     "text": [
      "Binary with leading zeroes: 00000100\n"
     ]
    }
   ],
   "source": [
    "# 45. Binary with Leading Zeroes\n",
    "\n",
    "# Write a Python program to convert an integer to binary that keeps leading zeros.\n",
    "# Sample data : x=12\n",
    "# Expected output : 00001100\n",
    "# 0000001100\n",
    "\n",
    "def binary_with_leading_zeroes(x, width=8):\n",
    "    return format(x, f'0{width}b')\n",
    "\n",
    "x = 4\n",
    "result = binary_with_leading_zeroes(x, width=8)\n",
    "print(f\"Binary with leading zeroes: {result}\")"
   ]
  },
  {
   "cell_type": "code",
   "execution_count": 111,
   "id": "5d11f8d4",
   "metadata": {},
   "outputs": [
    {
     "name": "stdout",
     "output_type": "stream",
     "text": [
      "The variable is of type: String\n"
     ]
    }
   ],
   "source": [
    "# 46. Variable Type Checker\n",
    "\n",
    "# Write a Python program to check whether a variable is an integer or string.\n",
    "\n",
    "def variable_type_checker(var):\n",
    "    if isinstance(var, int):\n",
    "        return \"Integer\"\n",
    "    elif isinstance(var, str):\n",
    "        return \"String\"\n",
    "    else:\n",
    "        return \"Other type\"\n",
    "\n",
    "user_input = input(\"Enter a variable: \")\n",
    "try:\n",
    "    value = int(user_input)\n",
    "except ValueError:\n",
    "    value = user_input \n",
    "\n",
    "output = variable_type_checker(value)\n",
    "print(f\"The variable is of type: {output}\")"
   ]
  },
  {
   "cell_type": "code",
   "execution_count": 119,
   "id": "8b5a3c12",
   "metadata": {},
   "outputs": [
    {
     "name": "stdout",
     "output_type": "stream",
     "text": [
      "Sum of cubes of all positive integers smaller than 2: 1\n"
     ]
    }
   ],
   "source": [
    "# 47. Cube Sum of Smaller Integers\n",
    "\n",
    "# Write a Python function that takes a positive integer and returns the sum of the cube of all positive integers smaller than the specified number.\n",
    "\n",
    "def cube_sum_smaller_than(n):\n",
    "    return sum(i ** 3 for i in range(n))\n",
    "\n",
    "n = int(input(\"Enter a positive integer: \"))\n",
    "result = cube_sum_smaller_than(n)\n",
    "print(f\"Sum of cubes of all positive integers smaller than {n}: {result}\")"
   ]
  },
  {
   "cell_type": "code",
   "execution_count": 122,
   "id": "59e9cce7",
   "metadata": {},
   "outputs": [
    {
     "name": "stdout",
     "output_type": "stream",
     "text": [
      "ASCII value of '0': 48\n"
     ]
    }
   ],
   "source": [
    "# 48. Character ASCII Value\n",
    "\n",
    "# Write a Python program to get the ASCII value of a character.\n",
    "\n",
    "def ascii_value(character):\n",
    "    return ord(character)\n",
    "\n",
    "character = input(\"Enter a character: \")\n",
    "result = ascii_value(character)\n",
    "print(f\"ASCII value of '{character}': {result}\")"
   ]
  },
  {
   "cell_type": "code",
   "execution_count": 124,
   "id": "832a14c8",
   "metadata": {},
   "outputs": [
    {
     "name": "stdout",
     "output_type": "stream",
     "text": [
      "Current system time: 10:57:00\n"
     ]
    }
   ],
   "source": [
    "# 49. Get System Time\n",
    "\n",
    "# Write a Python program to get system time.\n",
    "\n",
    "print(\"Current system time:\", datetime.now().strftime(\"%H:%M:%S\"))"
   ]
  },
  {
   "cell_type": "code",
   "execution_count": 125,
   "id": "c6f69573",
   "metadata": {},
   "outputs": [
    {
     "name": "stdout",
     "output_type": "stream",
     "text": [
      "Rounded number: 45353.44\n"
     ]
    }
   ],
   "source": [
    "# 50. Round Float to Decimals\n",
    "\n",
    "# Write a Python program to round a floating-point number to a specified number of decimal places.\n",
    "\n",
    "def round_float(number, decimals):\n",
    "    return round(number, decimals)\n",
    "\n",
    "number = float(input(\"Enter a floating-point number: \"))\n",
    "decimals = int(input(\"Enter number of decimal places: \"))\n",
    "result = round_float(number, decimals)\n",
    "print(f\"Rounded number: {result}\")"
   ]
  }
 ],
 "metadata": {
  "kernelspec": {
   "display_name": "Python 3",
   "language": "python",
   "name": "python3"
  },
  "language_info": {
   "codemirror_mode": {
    "name": "ipython",
    "version": 3
   },
   "file_extension": ".py",
   "mimetype": "text/x-python",
   "name": "python",
   "nbconvert_exporter": "python",
   "pygments_lexer": "ipython3",
   "version": "3.13.6"
  }
 },
 "nbformat": 4,
 "nbformat_minor": 5
}
