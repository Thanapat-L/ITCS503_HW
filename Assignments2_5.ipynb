{
 "cells": [
  {
   "cell_type": "code",
   "execution_count": null,
   "id": "02bfcb28",
   "metadata": {},
   "outputs": [],
   "source": [
    "# Object-oriented Programming"
   ]
  },
  {
   "cell_type": "code",
   "execution_count": 2,
   "id": "b8dd105b",
   "metadata": {},
   "outputs": [
    {
     "name": "stdout",
     "output_type": "stream",
     "text": [
      "The area of this circle is : 452.3893421169302\n",
      "The perimeter of this circle is : 75.39822368615503\n"
     ]
    }
   ],
   "source": [
    "# 1. Circle Class for Area and Perimeter\n",
    "\n",
    "# Write a Python program to create a class representing a Circle. Include methods to calculate its area and perimeter.\n",
    "import math as m\n",
    "\n",
    "\n",
    "class circle:\n",
    "    def __init__(self,radius):\n",
    "        self.radius = radius\n",
    "    \n",
    "\n",
    "    def cal_circle_area(self):\n",
    "        return m.pi*self.radius**2\n",
    "\n",
    "    def cal_circle_perimeter(self):\n",
    "        return 2*m.pi*self.radius\n",
    "    \n",
    "\n",
    "radius = float(input(\"Input the radius of the circle : \"))\n",
    "circle_r = circle(radius)\n",
    "print(f\"The area of this circle is : {circle.cal_circle_area(circle_r)}\")\n",
    "print(f\"The perimeter of this circle is : {circle.cal_circle_perimeter(circle_r)}\")"
   ]
  },
  {
   "cell_type": "code",
   "execution_count": 6,
   "id": "d1d63fab",
   "metadata": {},
   "outputs": [
    {
     "name": "stdout",
     "output_type": "stream",
     "text": [
      "Person 1:\n",
      "Name: Charles Leclerc\n",
      "Country: France\n",
      "Date of Birth: 1997-10-16\n",
      "Age: 27\n"
     ]
    }
   ],
   "source": [
    "# 2. Person Class with Age Calculation\n",
    "\n",
    "# Write a Python program to create a person class. Include attributes like name, country and date of birth. Implement a method to determine the person's age.\n",
    "from datetime import date\n",
    "\n",
    "class People:\n",
    "    def __init__(self,name,country,date_of_birth):\n",
    "        self.name = name\n",
    "        self.country = country\n",
    "        self.date_of_birth = date_of_birth\n",
    "\n",
    "    def cal_age(self):\n",
    "        today = date.today()\n",
    "        age = today.year - self.date_of_birth.year\n",
    "        if today < date(today.year, self.date_of_birth.month, self.date_of_birth.day):\n",
    "            age -= 1\n",
    "        return age\n",
    "    \n",
    "Person1 = People(\"Charles Leclerc\", \"France\", date(1997, 10, 16))\n",
    "\n",
    "print(\"Person 1:\")\n",
    "print(\"Name:\", Person1.name)\n",
    "print(\"Country:\", Person1.country)\n",
    "print(\"Date of Birth:\", Person1.date_of_birth)\n",
    "print(\"Age:\", Person1.cal_age())"
   ]
  }
 ],
 "metadata": {
  "kernelspec": {
   "display_name": "ITCS525",
   "language": "python",
   "name": "python3"
  },
  "language_info": {
   "codemirror_mode": {
    "name": "ipython",
    "version": 3
   },
   "file_extension": ".py",
   "mimetype": "text/x-python",
   "name": "python",
   "nbconvert_exporter": "python",
   "pygments_lexer": "ipython3",
   "version": "3.13.5"
  }
 },
 "nbformat": 4,
 "nbformat_minor": 5
}
