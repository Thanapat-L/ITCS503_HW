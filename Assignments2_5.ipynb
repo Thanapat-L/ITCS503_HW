{
 "cells": [
  {
   "cell_type": "code",
   "execution_count": null,
   "id": "02bfcb28",
   "metadata": {},
   "outputs": [],
   "source": [
    "# Object-oriented Programming"
   ]
  },
  {
   "cell_type": "code",
   "execution_count": 2,
   "id": "b8dd105b",
   "metadata": {},
   "outputs": [
    {
     "name": "stdout",
     "output_type": "stream",
     "text": [
      "The area of this circle is : 452.3893421169302\n",
      "The perimeter of this circle is : 75.39822368615503\n"
     ]
    }
   ],
   "source": [
    "# 1. Circle Class for Area and Perimeter\n",
    "\n",
    "# Write a Python program to create a class representing a Circle. Include methods to calculate its area and perimeter.\n",
    "import math as m\n",
    "\n",
    "\n",
    "class circle:\n",
    "    def __init__(self,radius):\n",
    "        self.radius = radius\n",
    "    \n",
    "\n",
    "    def cal_circle_area(self):\n",
    "        return m.pi*self.radius**2\n",
    "\n",
    "    def cal_circle_perimeter(self):\n",
    "        return 2*m.pi*self.radius\n",
    "    \n",
    "\n",
    "radius = float(input(\"Input the radius of the circle : \"))\n",
    "circle_r = circle(radius)\n",
    "print(f\"The area of this circle is : {circle.cal_circle_area(circle_r)}\")\n",
    "print(f\"The perimeter of this circle is : {circle.cal_circle_perimeter(circle_r)}\")"
   ]
  },
  {
   "cell_type": "code",
   "execution_count": 6,
   "id": "d1d63fab",
   "metadata": {},
   "outputs": [
    {
     "name": "stdout",
     "output_type": "stream",
     "text": [
      "Person 1:\n",
      "Name: Charles Leclerc\n",
      "Country: France\n",
      "Date of Birth: 1997-10-16\n",
      "Age: 27\n"
     ]
    }
   ],
   "source": [
    "# 2. Person Class with Age Calculation\n",
    "\n",
    "# Write a Python program to create a person class. Include attributes like name, country and date of birth. Implement a method to determine the person's age.\n",
    "from datetime import date\n",
    "\n",
    "class People:\n",
    "    def __init__(self,name,country,date_of_birth):\n",
    "        self.name = name\n",
    "        self.country = country\n",
    "        self.date_of_birth = date_of_birth\n",
    "\n",
    "    def cal_age(self):\n",
    "        today = date.today()\n",
    "        age = today.year - self.date_of_birth.year\n",
    "        if today < date(today.year, self.date_of_birth.month, self.date_of_birth.day):\n",
    "            age -= 1\n",
    "        return age\n",
    "    \n",
    "Person1 = People(\"Charles Leclerc\", \"France\", date(1997, 10, 16))\n",
    "\n",
    "print(\"Person 1:\")\n",
    "print(\"Name:\", Person1.name)\n",
    "print(\"Country:\", Person1.country)\n",
    "print(\"Date of Birth:\", Person1.date_of_birth)\n",
    "print(\"Age:\", Person1.cal_age())"
   ]
  },
  {
   "cell_type": "code",
   "execution_count": null,
   "id": "8bad5812",
   "metadata": {},
   "outputs": [
    {
     "name": "stdout",
     "output_type": "stream",
     "text": [
      "8\n",
      "2\n",
      "15\n",
      "1.6666666666666667\n",
      "Division by zero error\n"
     ]
    }
   ],
   "source": [
    "    # 3. Calculator Class for Basic Arithmetic Operations\n",
    "\n",
    "    # Write a Python program to create a calculator class. Include methods for basic arithmetic operations.\n",
    "\n",
    "class Calculator:\n",
    "    def add(self, a, b):\n",
    "        return a + b\n",
    "\n",
    "    def subtract(self, a, b):\n",
    "        return a - b\n",
    "\n",
    "    def multiply(self, a, b):\n",
    "        return a * b\n",
    "\n",
    "    def divide(self, a, b):\n",
    "        if b != 0:\n",
    "            return a / b\n",
    "        else:\n",
    "            return \"Can not divide by zero\"\n",
    "\n",
    "calc = Calculator()\n",
    "print(calc.add(5, 3))\n",
    "print(calc.subtract(5, 3))\n",
    "print(calc.multiply(5, 3))\n",
    "print(calc.divide(5, 3))\n",
    "print(calc.divide(5, 0))"
   ]
  },
  {
   "cell_type": "code",
   "execution_count": null,
   "id": "2d5630c1",
   "metadata": {},
   "outputs": [
    {
     "name": "stdout",
     "output_type": "stream",
     "text": [
      "Area of the circle: 28.274333882308138\n",
      "Perimeter of the circle: 18.84955592153876\n",
      "Area of the triangle: 18.0\n",
      "Perimeter of the triangle: 36.0\n",
      "Area of the square: 9.0\n",
      "Perimeter of the square: 12.0\n"
     ]
    }
   ],
   "source": [
    "# 4. Shape Class with Subclasses for Different Shapes\n",
    "\n",
    "# Write a Python program to create a class that represents a shape. Include methods to calculate its area and perimeter. Implement subclasses for different shapes like circle, triangle, and square.\n",
    "import math as m\n",
    "class Circle:\n",
    "    def __init__(self, radius):\n",
    "        self.radius = radius\n",
    "\n",
    "    def area(self):\n",
    "        return m.pi * self.radius * self.radius\n",
    "\n",
    "    def perimeter(self):\n",
    "        return 2 * m.pi * self.radius\n",
    "\n",
    "\n",
    "class Triangle:\n",
    "    def __init__(self, base, height):\n",
    "        self.base = base\n",
    "        self.height = height\n",
    "\n",
    "    def area(self):\n",
    "        return 0.5 * self.base * self.height\n",
    "\n",
    "    def perimeter(self):\n",
    "        # Assuming it's an equilateral triangle\n",
    "        return 3 * self.base\n",
    "\n",
    "class Square:\n",
    "    def __init__(self, side):\n",
    "        self.side = side\n",
    "\n",
    "    def area(self):\n",
    "        return self.side * self.side\n",
    "\n",
    "    def perimeter(self):\n",
    "        return 4 * self.side\n",
    "\n",
    "\n",
    "radius = float(input(\"Input the radius of the circle: \"))\n",
    "circle = Circle(radius)\n",
    "print(\"Area of the circle:\", circle.area())\n",
    "print(\"Perimeter of the circle:\", circle.perimeter())\n",
    "\n",
    "base = float(input(\"Input the base of the triangle: \"))\n",
    "height = float(input(\"Input the height of the triangle: \"))\n",
    "triangle = Triangle(base, height)\n",
    "print(\"Area of the triangle:\", triangle.area())\n",
    "print(\"Perimeter of the triangle:\", triangle.perimeter())\n",
    "\n",
    "side = float(input(\"Input the side of the square: \"))\n",
    "square = Square(side)\n",
    "print(\"Area of the square:\", square.area())\n",
    "print(\"Perimeter of the square:\", square.perimeter())\n"
   ]
  },
  {
   "cell_type": "code",
   "execution_count": 5,
   "id": "2223cc9f",
   "metadata": {},
   "outputs": [
    {
     "name": "stdout",
     "output_type": "stream",
     "text": [
      "Search for 10 in the BinarySearchTree: True\n"
     ]
    }
   ],
   "source": [
    "# 5. Binary Search Tree Class\n",
    "\n",
    "# Write a Python program to create a class representing a binary search tree. Include methods for inserting and searching for elements in the binary tree.\n",
    "\n",
    "class Node:\n",
    "    def __init__(self, value):\n",
    "        self.value = value\n",
    "        self.left = None\n",
    "        self.right = None\n",
    "\n",
    "class BinarySearchTree:\n",
    "    def __init__(self):\n",
    "        self.root = None\n",
    "\n",
    "    def insert(self, key):\n",
    "        self.root = insert(self.root, key)\n",
    "\n",
    "    def search(self, key):\n",
    "        current = self.root\n",
    "        while current:\n",
    "            if current.value == key:\n",
    "                return True\n",
    "            elif key < current.value:\n",
    "                current = current.left\n",
    "            else:\n",
    "                current = current.right\n",
    "        return False\n",
    "def insert(root, key):\n",
    "    if root is None:\n",
    "        return Node(key)\n",
    "    if key < root.value:\n",
    "        root.left = insert(root.left, key)\n",
    "    else:\n",
    "        root.right = insert(root.right, key)\n",
    "    return root\n",
    "\n",
    "BST = BinarySearchTree()\n",
    "elements = [7, 3, 9, 1, 5, 8, 10]\n",
    "for e in elements:\n",
    "    BST.insert(e)\n",
    "search_key = 10\n",
    "print(\"Search for\", search_key, \"in the BinarySearchTree:\", BST.search(search_key))"
   ]
  },
  {
   "cell_type": "code",
   "execution_count": 6,
   "id": "2578f374",
   "metadata": {},
   "outputs": [
    {
     "name": "stdout",
     "output_type": "stream",
     "text": [
      "Top element is: 3\n",
      "Stack size is: 3\n",
      "Popped element is: 3\n",
      "Stack size after pop is: 2\n",
      "Stack size after clear is: 0\n"
     ]
    }
   ],
   "source": [
    "# 6. Stack Data Structure Class\n",
    "\n",
    "# Write a Python program to create a class representing a stack data structure. Include methods for pushing and popping elements.\n",
    "\n",
    "class Stack:\n",
    "    def __init__(self):\n",
    "        self.stack = []\n",
    "\n",
    "    def push(self, item):\n",
    "        self.stack.append(item)\n",
    "\n",
    "    def pop(self):\n",
    "        if not len(self.stack) == 0:\n",
    "            return self.stack.pop()\n",
    "        return None\n",
    "\n",
    "    def peek(self):\n",
    "        if not len(self.stack) == 0:\n",
    "            return self.stack[-1]\n",
    "        return None\n",
    "\n",
    "    def size(self):\n",
    "        return len(self.stack)\n",
    "\n",
    "    def clear(self):\n",
    "        self.stack = []\n",
    "        \n",
    "\n",
    "stack = Stack()\n",
    "stack.push(1)\n",
    "stack.push(2)\n",
    "stack.push(3)\n",
    "print(\"Top element is:\", stack.peek())\n",
    "print(\"Stack size is:\", stack.size())\n",
    "print(\"Popped element is:\", stack.pop())\n",
    "print(\"Stack size after pop is:\", stack.size())\n",
    "stack.clear()\n",
    "print(\"Stack size after clear is:\", stack.size())"
   ]
  },
  {
   "cell_type": "code",
   "execution_count": 9,
   "id": "14df5b10",
   "metadata": {},
   "outputs": [
    {
     "name": "stdout",
     "output_type": "stream",
     "text": [
      "1 -> 2 -> 3 -> None\n",
      "1 -> 3 -> None\n"
     ]
    }
   ],
   "source": [
    "# 7. Linked List Data Structure Class\n",
    "\n",
    "# Write a Python program to create a class representing a linked list data structure. Include methods for displaying linked list data, inserting and deleting nodes.\n",
    "\n",
    "class Node:\n",
    "    def __init__(self, data):\n",
    "        self.data = data\n",
    "        self.next = None\n",
    "\n",
    "class LinkedList:\n",
    "    def __init__(self):\n",
    "        self.head = None\n",
    "\n",
    "    def display(self):\n",
    "        current = self.head\n",
    "        while current:\n",
    "            print(current.data, end=\" -> \")\n",
    "            current = current.next\n",
    "        print(\"None\")\n",
    "\n",
    "    def insert(self, data):\n",
    "        new_node = Node(data)\n",
    "        if not self.head:\n",
    "            self.head = new_node\n",
    "        else:\n",
    "            current = self.head\n",
    "            while current.next:\n",
    "                current = current.next\n",
    "            current.next = new_node\n",
    "\n",
    "    def delete(self, data):\n",
    "        if not self.head:\n",
    "            return\n",
    "\n",
    "        if self.head.data == data:\n",
    "            self.head = self.head.next\n",
    "            return\n",
    "\n",
    "        current = self.head\n",
    "        prev = None\n",
    "        while current and current.data != data:\n",
    "            prev = current\n",
    "            current = current.next\n",
    "\n",
    "        if current:\n",
    "            prev.next = current.next\n",
    "\n",
    "\n",
    "Link = LinkedList()\n",
    "Link.insert(1)\n",
    "Link.insert(2)\n",
    "Link.insert(3)\n",
    "Link.display()\n",
    "Link.delete(2)\n",
    "Link.display()"
   ]
  },
  {
   "cell_type": "code",
   "execution_count": 10,
   "id": "b78b5fa9",
   "metadata": {},
   "outputs": [
    {
     "name": "stdout",
     "output_type": "stream",
     "text": [
      "Shopping Cart:\n",
      " - Apple: $0.99\n",
      " - Apple: $0.99\n",
      " - Banana: $0.59\n",
      " - Banana: $0.59\n",
      " - Banana: $0.59\n",
      "Total: $3.75\n"
     ]
    }
   ],
   "source": [
    "# 8. Shopping Cart Class\n",
    "\n",
    "# Write a Python program to create a class representing a shopping cart. Include methods for adding and removing items, and calculating the total price.\n",
    "\n",
    "class ShoppingCart:\n",
    "    def __init__(self):\n",
    "        self.items = []\n",
    "\n",
    "    def add_item(self, item, amount, price):\n",
    "        for i in range(amount):\n",
    "            self.items.append({\"item\": item, \"price\": price})\n",
    "\n",
    "    def remove_item(self, item):\n",
    "        self.items = [i for i in self.items if i[\"item\"] != item]\n",
    "\n",
    "    def get_total(self):\n",
    "        return sum(i[\"price\"] for i in self.items)\n",
    "\n",
    "    def display_cart(self):\n",
    "        if not self.items:\n",
    "            print(\"Shopping cart is empty.\")\n",
    "            return\n",
    "        print(\"Shopping Cart:\")\n",
    "        for i in self.items:\n",
    "            print(f\" - {i['item']}: ${i['price']:.2f}\")\n",
    "        print(f\"Total: ${self.get_total():.2f}\")\n",
    "\n",
    "\n",
    "Cart = ShoppingCart()\n",
    "Cart.add_item(\"Apple\", 2, 0.99)\n",
    "Cart.add_item(\"Banana\", 3, 0.59)\n",
    "Cart.display_cart()"
   ]
  },
  {
   "cell_type": "code",
   "execution_count": 11,
   "id": "b0d27860",
   "metadata": {},
   "outputs": [
    {
     "name": "stdout",
     "output_type": "stream",
     "text": [
      "Stack elements:\n",
      " - 3\n",
      " - 2\n",
      " - 1\n",
      "Stack elements:\n",
      " - 2\n",
      " - 1\n"
     ]
    }
   ],
   "source": [
    "# 9. Stack Data Structure Class with Display Method\n",
    "\n",
    "# Write a Python program to create a class representing a stack data structure. Include methods for pushing, popping and displaying elements.\n",
    "\n",
    "class Stack:\n",
    "    def __init__(self):\n",
    "        self.items = []\n",
    "\n",
    "    def push(self, item):\n",
    "        self.items.append(item)\n",
    "\n",
    "    def pop(self):\n",
    "        if not self.items:\n",
    "            return None\n",
    "        return self.items.pop()\n",
    "\n",
    "    def display(self):\n",
    "        if not self.items:\n",
    "            print(\"Stack is empty.\")\n",
    "            return\n",
    "        print(\"Stack elements:\")\n",
    "        for item in reversed(self.items):\n",
    "            print(f\" - {item}\")\n",
    "\n",
    "\n",
    "# Example usage\n",
    "stack = Stack()\n",
    "stack.push(1)\n",
    "stack.push(2)\n",
    "stack.push(3)\n",
    "stack.display()\n",
    "stack.pop()\n",
    "stack.display()"
   ]
  },
  {
   "cell_type": "code",
   "execution_count": null,
   "id": "b4620149",
   "metadata": {},
   "outputs": [
    {
     "name": "stdout",
     "output_type": "stream",
     "text": [
      "Queue elements:\n",
      " - 1\n",
      " - 2\n",
      " - 3\n",
      "Queue elements:\n",
      " - 2\n",
      " - 3\n"
     ]
    }
   ],
   "source": [
    "# 10. Queue Data Structure Class\n",
    "\n",
    "# Write a Python program to create a class representing a queue data structure. Include methods for enqueueing and dequeueing elements.\n",
    "\n",
    "class Queue:\n",
    "    def __init__(self):\n",
    "        self.items = []\n",
    "\n",
    "    def enqueue(self, item):\n",
    "        self.items.append(item)\n",
    "\n",
    "    def dequeue(self):\n",
    "        if not self.items:\n",
    "            return \"Cannot dequeue from an empty queue.\"\n",
    "        return self.items.pop(0)\n",
    "\n",
    "    def display(self):\n",
    "        if not self.items:\n",
    "            print(\"Queue is empty.\")\n",
    "            return\n",
    "        print(\"Queue elements:\")\n",
    "        for item in self.items:\n",
    "            print(f\" - {item}\")\n",
    "\n",
    "\n",
    "queue = Queue()\n",
    "queue.enqueue(1)\n",
    "queue.enqueue(2)\n",
    "queue.enqueue(3)\n",
    "queue.display()\n",
    "queue.dequeue()\n",
    "queue.display()\n"
   ]
  },
  {
   "cell_type": "code",
   "execution_count": null,
   "id": "c6abdbe0",
   "metadata": {},
   "outputs": [],
   "source": [
    "# Class"
   ]
  },
  {
   "cell_type": "code",
   "execution_count": 13,
   "id": "1fe47ccb",
   "metadata": {},
   "outputs": [
    {
     "name": "stdout",
     "output_type": "stream",
     "text": [
      "__name__\n",
      "__doc__\n",
      "__package__\n",
      "__loader__\n",
      "__spec__\n",
      "_array_reconstructor\n",
      "ArrayType\n",
      "array\n",
      "typecodes\n"
     ]
    }
   ],
   "source": [
    "# 1. Import Built-in Array Module and Display Namespace\n",
    "\n",
    "# Write a Python program to import a built-in array module and display the namespace of the said module.\n",
    "\n",
    "import array\n",
    "\n",
    "for name in array.__dict__:\n",
    "    print(name)\n"
   ]
  },
  {
   "cell_type": "code",
   "execution_count": 21,
   "id": "5bc7297d",
   "metadata": {},
   "outputs": [
    {
     "name": "stdout",
     "output_type": "stream",
     "text": [
      "Class namespace: {'__module__': '__main__', '__firstlineno__': 5, '__init__': <function MyClass.__init__ at 0x0000022B0EAAAD40>, 'method1': <function MyClass.method1 at 0x0000022B0EAAADE0>, 'method2': <function MyClass.method2 at 0x0000022B0EAAAE80>, '__static_attributes__': ('attribute1', 'attribute2'), '__dict__': <attribute '__dict__' of 'MyClass' objects>, '__weakref__': <attribute '__weakref__' of 'MyClass' objects>, '__doc__': None}\n"
     ]
    }
   ],
   "source": [
    "# 2. Create a Class and Display Its Namespace\n",
    "\n",
    "# Write a Python program to create a class and display the namespace of that class.\n",
    "\n",
    "class MyClass:\n",
    "    def __init__(self):\n",
    "        self.attribute1 = \"Value 1\"\n",
    "        self.attribute2 = \"Value 2\"\n",
    "\n",
    "    def method1(self):\n",
    "        return \"Method 1\"\n",
    "\n",
    "    def method2(self):\n",
    "        return \"Method 2\"\n",
    "\n",
    "print(\"Class namespace:\", MyClass.__dict__)\n"
   ]
  },
  {
   "cell_type": "code",
   "execution_count": 22,
   "id": "25fa8f80",
   "metadata": {},
   "outputs": [
    {
     "name": "stdout",
     "output_type": "stream",
     "text": [
      "Instance namespace: {'attribute1': 'Value 1', 'attribute2': 'Value 2'}\n"
     ]
    }
   ],
   "source": [
    "# 3. Create an instance of a class and display its namespace\n",
    "\n",
    "# Write a Python program to create an instance of a specified class and display the namespace of the said instance.\n",
    "\n",
    "my_instance = MyClass()\n",
    "print(\"Instance namespace:\", my_instance.__dict__)\n"
   ]
  },
  {
   "cell_type": "code",
   "execution_count": 23,
   "id": "a6fc490b",
   "metadata": {},
   "outputs": [
    {
     "name": "stdout",
     "output_type": "stream",
     "text": [
      "Help on built-in function abs in module builtins:\n",
      "\n",
      "abs(x, /)\n",
      "    Return the absolute value of the argument.\n",
      "\n",
      "155\n"
     ]
    }
   ],
   "source": [
    "# 4. Access builtins module: Import abs(), show docs & absolute value\n",
    "\n",
    "# 'builtins' module provides direct access to all 'built-in' identifiers of Python.\n",
    "# Write a Python program that imports the abs() function using the builtins module, displays the documentation of the abs() function and finds the absolute value of -155.\n",
    "\n",
    "import builtins \n",
    "\n",
    "help(builtins.abs)\n",
    "print(builtins.abs(-155))"
   ]
  },
  {
   "cell_type": "code",
   "execution_count": 25,
   "id": "56aee837",
   "metadata": {},
   "outputs": [
    {
     "name": "stdout",
     "output_type": "stream",
     "text": [
      "Function argument names: ('name', 'age', 'major')\n"
     ]
    }
   ],
   "source": [
    "# 5. Define function student() and show argument names using attributes\n",
    "\n",
    "# Define a Python function student(). Using function attributes display the names of all arguments.\n",
    "\n",
    "def student(name, age, major):\n",
    "    pass\n",
    "\n",
    "print(\"Function argument names:\", student.__code__.co_varnames)\n"
   ]
  },
  {
   "cell_type": "code",
   "execution_count": 28,
   "id": "862ffcf8",
   "metadata": {},
   "outputs": [
    {
     "name": "stdout",
     "output_type": "stream",
     "text": [
      "Student ID: 6839732\n",
      "Student Name: Thanapat Laojaroensakul\n",
      "Student ID: 6839701\n",
      "Student Name: A\n",
      "Student Class: ICTS525\n"
     ]
    }
   ],
   "source": [
    "# 6. Define function student_data() to print ID, name, and class if given\n",
    "\n",
    "# Write a Python function student_data () that will print the ID of a student (student_id). If the user passes an argument student_name or student_class the function will print the student name and class.\n",
    "\n",
    "def student_data(student_id, **kwargs):\n",
    "    print(\"Student ID:\", student_id)\n",
    "    if 'student_name' in kwargs:\n",
    "        print(\"Student Name:\", kwargs['student_name'])\n",
    "    if 'student_class' in kwargs:\n",
    "        print(\"Student Class:\", kwargs['student_class'])\n",
    "\n",
    "student_data(student_id='6839732', student_name='Thanapat Laojaroensakul')\n",
    "\n",
    "student_data(student_id='6839701', student_name='A', student_class ='ICTS525')"
   ]
  },
  {
   "cell_type": "code",
   "execution_count": 29,
   "id": "cd04c420",
   "metadata": {},
   "outputs": [
    {
     "name": "stdout",
     "output_type": "stream",
     "text": [
      "Class type: <class 'type'>\n",
      "Class __dict__ keys: dict_keys(['__module__', '__firstlineno__', '__init__', '__static_attributes__', '__dict__', '__weakref__', '__doc__'])\n",
      "Class __module__: __main__\n"
     ]
    }
   ],
   "source": [
    "# 7. Create class Student and display its type, __dict__ keys, and module\n",
    "\n",
    "# Write a simple Python class named Student and display its type. Also, display the __dict__ attribute keys and the value of the __module__ attribute of the Student class.\n",
    "\n",
    "class Student:\n",
    "    def __init__(self, student_id, student_name, student_class):\n",
    "        self.student_id = student_id\n",
    "        self.student_name = student_name\n",
    "        self.student_class = student_class\n",
    "\n",
    "print(\"Class type:\", type(Student))\n",
    "print(\"Class __dict__ keys:\", Student.__dict__.keys())\n",
    "print(\"Class __module__:\", Student.__module__)\n"
   ]
  },
  {
   "cell_type": "code",
   "execution_count": 30,
   "id": "68dfd488",
   "metadata": {},
   "outputs": [
    {
     "name": "stdout",
     "output_type": "stream",
     "text": [
      "Is student_instance an instance of Student? True\n",
      "Is marks_instance an instance of Marks? True\n",
      "Is student_instance an instance of Marks? False\n",
      "Is marks_instance an instance of Student? False\n",
      "Is Student a subclass of object? True\n",
      "Is Marks a subclass of object? True\n"
     ]
    }
   ],
   "source": [
    "# 8. Create empty classes Student and Marks, instantiate them, and check instance and subclass relationships\n",
    "\n",
    "# Write a Python program to create two empty classes, Student and Marks. Now create some instances and check whether they are instances of the said classes or not. Also, check whether the said classes are subclasses of the built-in object class or not.\n",
    "\n",
    "class Student:\n",
    "    pass\n",
    "\n",
    "class Marks:\n",
    "    pass\n",
    "\n",
    "student_instance = Student()\n",
    "marks_instance = Marks()\n",
    "\n",
    "print(\"Is student_instance an instance of Student?\", isinstance(student_instance, Student))\n",
    "print(\"Is marks_instance an instance of Marks?\", isinstance(marks_instance, Marks))\n",
    "print(\"Is student_instance an instance of Marks?\", isinstance(student_instance, Marks))\n",
    "print(\"Is marks_instance an instance of Student?\", isinstance(marks_instance, Student))\n",
    "\n",
    "print(\"Is Student a subclass of object?\", issubclass(Student, object))\n",
    "print(\"Is Marks a subclass of object?\", issubclass(Marks, object))\n"
   ]
  },
  {
   "cell_type": "code",
   "execution_count": 34,
   "id": "340b83cf",
   "metadata": {},
   "outputs": [
    {
     "name": "stdout",
     "output_type": "stream",
     "text": [
      "Original Name: Thanapat Laojaroensakul\n",
      "Original Marks: 85\n",
      "Modified Name: Thanapat Laojaroensakul\n",
      "Modified Marks: 90\n"
     ]
    }
   ],
   "source": [
    "# 9. Create a Class Named Student with Attributes; Modify and Print Original and Modified Values\n",
    "\n",
    "# Write a Python class named Student with two attributes student_name, marks. Modify the attribute values of the said class and print the original and modified values of the said attributes.\n",
    "\n",
    "class Student:\n",
    "    def __init__(self, student_name, marks):\n",
    "        self.student_name = student_name\n",
    "        self.marks = marks\n",
    "\n",
    "student = Student(\"Thanapat Laojaroensakul\", 85)\n",
    "print(\"Original Name:\", student.student_name)\n",
    "print(\"Original Marks:\", student.marks)\n",
    "\n",
    "student.marks = 90\n",
    "\n",
    "print(\"Modified Name:\", student.student_name)\n",
    "print(\"Modified Marks:\", student.marks)\n"
   ]
  },
  {
   "cell_type": "code",
   "execution_count": 40,
   "id": "a736caf6",
   "metadata": {},
   "outputs": [
    {
     "name": "stdout",
     "output_type": "stream",
     "text": [
      "Student ID: 6839732\n",
      "Student Name: Thanapat Laojaroensakul\n",
      "Student Class: ICTS525\n",
      "Student ID: 6839732\n",
      "Student Name: N/A\n",
      "Student Class: ICTS525\n"
     ]
    }
   ],
   "source": [
    "# 10. Create a Class Named Student with Attributes; Add and Remove an Attribute and Display the Attributes\n",
    "\n",
    "# Write a Python class named Student with two attributes student_id, student_name. Add a new attribute student_class and display the entire attribute and the values of the class. Now remove the student_name attribute and display the entire attribute with values.\n",
    "\n",
    "class Student:\n",
    "    def __init__(self, student_id, student_name):\n",
    "        self.student_id = student_id\n",
    "        self.student_name = student_name\n",
    "\n",
    "student = Student(\"6839732\", \"Thanapat Laojaroensakul\")\n",
    "student.student_class = \"ICTS525\"\n",
    "\n",
    "print(\"Student ID:\", student.student_id)\n",
    "print(\"Student Name:\", student.student_name)\n",
    "print(\"Student Class:\", student.student_class)\n",
    "\n",
    "del student.student_name\n",
    "\n",
    "print(\"Student ID:\", student.student_id)\n",
    "print(\"Student Name:\", student.student_name if hasattr(student, 'student_name') else \"N/A\")\n",
    "print(\"Student Class:\", student.student_class)\n"
   ]
  },
  {
   "cell_type": "code",
   "execution_count": null,
   "id": "1e569e5f",
   "metadata": {},
   "outputs": [],
   "source": [
    "# List"
   ]
  },
  {
   "cell_type": "code",
   "execution_count": 47,
   "id": "793f9dd1",
   "metadata": {},
   "outputs": [
    {
     "name": "stdout",
     "output_type": "stream",
     "text": [
      "15\n"
     ]
    }
   ],
   "source": [
    "# 1. Sum Items in List\n",
    "\n",
    "# Write a Python program to sum all the items in a list\n",
    "\n",
    "def sum_list(lst):\n",
    "    total = 0\n",
    "    for item in lst:\n",
    "        total += item\n",
    "    return total\n",
    "\n",
    "\n",
    "print(sum_list([1, 2, 3, 4, 5]))"
   ]
  },
  {
   "cell_type": "code",
   "execution_count": 48,
   "id": "d0235ceb",
   "metadata": {},
   "outputs": [
    {
     "name": "stdout",
     "output_type": "stream",
     "text": [
      "120\n"
     ]
    }
   ],
   "source": [
    "# 2. Multiply Items in List\n",
    "\n",
    "# Write a Python program to multiply all the items in a list.\n",
    "\n",
    "def multiple_list(lst):\n",
    "    total = 1\n",
    "    for item in lst:\n",
    "        total *= item\n",
    "    return total\n",
    "\n",
    "\n",
    "print(multiple_list([1, 2, 3, 4, 5]))"
   ]
  },
  {
   "cell_type": "code",
   "execution_count": 50,
   "id": "7a996000",
   "metadata": {},
   "outputs": [
    {
     "name": "stdout",
     "output_type": "stream",
     "text": [
      "98\n"
     ]
    }
   ],
   "source": [
    "# 3. Get Largest Number in List\n",
    "\n",
    "# Write a Python program to get the largest number from a list.\n",
    "\n",
    "def get_largest_number(lst):\n",
    "    if not lst:\n",
    "        return None\n",
    "    largest = lst[0]\n",
    "    for item in lst:\n",
    "        if item > largest:\n",
    "            largest = item\n",
    "    return largest\n",
    "\n",
    "print(get_largest_number([1, 2, 3, 4, 5, 2, 3, 8, 98, 10, 22]))"
   ]
  },
  {
   "cell_type": "code",
   "execution_count": 52,
   "id": "0b18e1fa",
   "metadata": {},
   "outputs": [
    {
     "name": "stdout",
     "output_type": "stream",
     "text": [
      "-1\n"
     ]
    }
   ],
   "source": [
    "# 4. Get Smallest Number in List\n",
    "\n",
    "# Write a Python program to get the smallest number from a list.\n",
    "\n",
    "def get_smallest_number(lst):\n",
    "    if not lst:\n",
    "        return None\n",
    "    smallest = lst[0]\n",
    "    for item in lst:\n",
    "        if item < smallest:\n",
    "            smallest = item\n",
    "    return smallest\n",
    "\n",
    "print(get_smallest_number([1, 2, 3, -1, 5, 2, 3, 8, 98, 10, 22]))\n"
   ]
  },
  {
   "cell_type": "code",
   "execution_count": 54,
   "id": "20f31c53",
   "metadata": {},
   "outputs": [
    {
     "name": "stdout",
     "output_type": "stream",
     "text": [
      "2\n"
     ]
    }
   ],
   "source": [
    "# 5. Count Strings with Same Start and End\n",
    "\n",
    "# Write a Python program to count the number of strings from a given list of strings. The string length is 2 or more and the first and last characters are the same.\n",
    "# Sample List : ['abc', 'xyz', 'aba', '1221']\n",
    "# Expected Result : 2\n",
    "\n",
    "def count_strings_with_same_start_end(lst):\n",
    "    count = 0\n",
    "    for s in lst:\n",
    "        if len(s) >= 2 and s[0] == s[-1]:\n",
    "            count += 1\n",
    "    return count\n",
    "\n",
    "print(count_strings_with_same_start_end(['abc', 'xyz', 'aba', '1221']))\n"
   ]
  },
  {
   "cell_type": "code",
   "execution_count": 56,
   "id": "3993288c",
   "metadata": {},
   "outputs": [
    {
     "name": "stdout",
     "output_type": "stream",
     "text": [
      "[(2, 1), (1, 2), (2, 3), (4, 4), (2, 5)]\n"
     ]
    }
   ],
   "source": [
    "# 6. Sort Tuples by Last Element\n",
    "\n",
    "# Write a Python program to get a list, sorted in increasing order by the last element in each tuple from a given list of non-empty tuples.\n",
    "# Sample List : [(2, 5), (1, 2), (4, 4), (2, 3), (2, 1)]\n",
    "# Expected Result : [(2, 1), (1, 2), (2, 3), (4, 4), (2, 5)]\n",
    "\n",
    "def sort_tuples_by_last_element(lst):\n",
    "    return sorted(lst, key=lambda x: x[-1])\n",
    "\n",
    "print(sort_tuples_by_last_element([(2, 5), (1, 2), (4, 4), (2, 3), (2, 1)]))"
   ]
  },
  {
   "cell_type": "code",
   "execution_count": 58,
   "id": "db05aab4",
   "metadata": {},
   "outputs": [
    {
     "name": "stdout",
     "output_type": "stream",
     "text": [
      "[1, 2, 3, 4, 5, 98, 8, 10, 22]\n"
     ]
    }
   ],
   "source": [
    "# 7. Remove Duplicates from List\n",
    "\n",
    "# Write a Python program to remove duplicates from a list.\n",
    "\n",
    "def remove_duplicates(lst):\n",
    "    return list(set(lst))\n",
    "\n",
    "print(remove_duplicates([1, 2, 3, 4, 4, 4, 5, 2, 3, 8, 98, 10, 22]))"
   ]
  },
  {
   "cell_type": "code",
   "execution_count": 59,
   "id": "375f3a89",
   "metadata": {},
   "outputs": [
    {
     "name": "stdout",
     "output_type": "stream",
     "text": [
      "True\n",
      "False\n"
     ]
    }
   ],
   "source": [
    "# 8. Check if List is Empty\n",
    "\n",
    "# Write a Python program to check if a list is empty or not.\n",
    "\n",
    "def is_list_empty(lst):\n",
    "    return len(lst) == 0\n",
    "\n",
    "print(is_list_empty([]))\n",
    "print(is_list_empty([1, 2, 3]))"
   ]
  },
  {
   "cell_type": "code",
   "execution_count": 71,
   "id": "4dc23c13",
   "metadata": {},
   "outputs": [
    {
     "name": "stdout",
     "output_type": "stream",
     "text": [
      "This is a new list: [1, 2, 3, 4, 5]\n"
     ]
    }
   ],
   "source": [
    "# 9. Clone or Copy a List\n",
    "\n",
    "# Write a Python program to clone or copy a list.\n",
    "\n",
    "def clone_list(lst):\n",
    "    return lst[:]\n",
    "\n",
    "new_list = clone_list([1, 2, 3, 4, 5])\n",
    "print(\"This is a new list:\", new_list)"
   ]
  },
  {
   "cell_type": "code",
   "execution_count": 74,
   "id": "e475a5c7",
   "metadata": {},
   "outputs": [
    {
     "name": "stdout",
     "output_type": "stream",
     "text": [
      "['banana', 'cherry', 'finally']\n"
     ]
    }
   ],
   "source": [
    "# 10. Find Words Longer Than n\n",
    "\n",
    "# Write a Python program to find the list of words that are longer than n from a given list of words.\n",
    "\n",
    "def find_words_longer_than_n(words, n):\n",
    "    return [word for word in words if len(word) > n]\n",
    "\n",
    "print(find_words_longer_than_n([\"apple\", \"banana\", \"cherry\", \"date\", \"finally\", \"Time\"], 5))\n"
   ]
  },
  {
   "cell_type": "code",
   "execution_count": null,
   "id": "ec590e3e",
   "metadata": {},
   "outputs": [],
   "source": [
    "# Map"
   ]
  },
  {
   "cell_type": "code",
   "execution_count": 75,
   "id": "ca3b7582",
   "metadata": {},
   "outputs": [
    {
     "name": "stdout",
     "output_type": "stream",
     "text": [
      "[3, 6, 9, 12, 15]\n"
     ]
    }
   ],
   "source": [
    "# 1. Triple Numbers Map\n",
    "\n",
    "# Write a Python program to triple all numbers in a given list of integers. Use Python map.\n",
    "\n",
    "def triple_numbers(lst):\n",
    "    return list(map(lambda x: x * 3, lst))\n",
    "\n",
    "print(triple_numbers([1, 2, 3, 4, 5]))"
   ]
  },
  {
   "cell_type": "code",
   "execution_count": 83,
   "id": "d0ad2413",
   "metadata": {},
   "outputs": [
    {
     "name": "stdout",
     "output_type": "stream",
     "text": [
      "[22, 26, 30, 34]\n"
     ]
    }
   ],
   "source": [
    "# 2. Add Three Lists Map Lambda\n",
    "\n",
    "# Write a Python program to add three given lists using Python map and lambda.\n",
    "\n",
    "def add_four_lists(list1, list2, list3, list4):\n",
    "    return list(map(lambda x, y, z, w: x + y + z + w, list1, list2, list3, list4))\n",
    "\n",
    "print(add_four_lists([1, 2, 3, 4], [4, 5, 6, 7], [7, 8, 9, 10], [10, 11, 12, 13]))\n"
   ]
  },
  {
   "cell_type": "code",
   "execution_count": 85,
   "id": "e6e3c449",
   "metadata": {},
   "outputs": [
    {
     "name": "stdout",
     "output_type": "stream",
     "text": [
      "[['a', 'p', 'p', 'l', 'e'], ['b', 'a', 'n', 'a', 'n', 'a'], ['c', 'h', 'e', 'r', 'r', 'y']]\n"
     ]
    }
   ],
   "source": [
    "# 3. Listify Strings Map\n",
    "\n",
    "# Write a Python program to listify the list of given strings individually using Python map.\n",
    "\n",
    "def listify_strings(strings):\n",
    "    return list(map(lambda s: list(s), strings))\n",
    "\n",
    "print(listify_strings([\"apple\", \"banana\", \"cherry\"]))"
   ]
  },
  {
   "cell_type": "code",
   "execution_count": 86,
   "id": "1d7b77f0",
   "metadata": {},
   "outputs": [
    {
     "name": "stdout",
     "output_type": "stream",
     "text": [
      "[1, 3, 16, 125]\n"
     ]
    }
   ],
   "source": [
    "# 4. Power List Map\n",
    "\n",
    "# Write a Python program to create a list containing the power of said number in bases raised to the corresponding number in the index using Python map.\n",
    "\n",
    "def power_list(bases):\n",
    "    return list(map(lambda x, y: x ** y, bases, range(len(bases))))\n",
    "\n",
    "print(power_list([2, 3, 4, 5]))\n"
   ]
  },
  {
   "cell_type": "code",
   "execution_count": 87,
   "id": "550cc2b7",
   "metadata": {},
   "outputs": [
    {
     "name": "stdout",
     "output_type": "stream",
     "text": [
      "[1, 4, 9, 16, 25]\n"
     ]
    }
   ],
   "source": [
    "# 5. Square Elements Map\n",
    "\n",
    "# Write a Python program to square the elements of a list using the map() function.\n",
    "\n",
    "def square_elements(lst):\n",
    "    return list(map(lambda x: x ** 2, lst))\n",
    "\n",
    "\n",
    "print(square_elements([1, 2, 3, 4, 5]))"
   ]
  },
  {
   "cell_type": "code",
   "execution_count": null,
   "id": "5b481d3d",
   "metadata": {},
   "outputs": [
    {
     "name": "stdout",
     "output_type": "stream",
     "text": [
      "Using upper_case_strings :['APPLE', 'BANANA', 'CHERRY'] \n",
      "Using lower_case_strings :['apple', 'banana', 'cherry']\n"
     ]
    }
   ],
   "source": [
    "# 6. Case Conversion & Dedup Map\n",
    "\n",
    "# Write a Python program to convert all the characters into uppercase and lowercase and eliminate duplicate letters from a given sequence. Use the map() function.\n",
    "\n",
    "def upper_case_strings(strings):\n",
    "    return list(map(lambda s: s.upper(), strings))\n",
    "\n",
    "def lower_case_strings(strings):\n",
    "    return list(map(lambda s: s.lower(), strings))\n",
    "\n",
    "print(f\"Using upper_case_strings :{upper_case_strings([\"apple\", \"banana\", \"cherry\"])} \\nUsing lower_case_strings :{lower_case_strings([\"apple\", \"banana\", \"cherry\"])}\")"
   ]
  },
  {
   "cell_type": "code",
   "execution_count": null,
   "id": "44ce53e8",
   "metadata": {},
   "outputs": [
    {
     "name": "stdout",
     "output_type": "stream",
     "text": [
      "[-3, -3, -3]\n"
     ]
    }
   ],
   "source": [
    "# 7. List Addition and Difference Map\n",
    "\n",
    "# Write a Python program to add two given lists and find the difference between them. Use the map() function.\n",
    "\n",
    "def sum_list(list_1,list_2):\n",
    "    return list(map(lambda x, y: x - y, list_1,list_2))\n",
    "\n",
    "\n",
    "print((sum_list([1, 2, 3], [4, 5, 6])))"
   ]
  },
  {
   "cell_type": "code",
   "execution_count": null,
   "id": "8477b986",
   "metadata": {},
   "outputs": [
    {
     "name": "stdout",
     "output_type": "stream",
     "text": [
      "['1', '2', '3']\n",
      "('1', '2', '3')\n"
     ]
    }
   ],
   "source": [
    "# 8. Convert Numbers to Strings Map\n",
    "\n",
    "# Write a Python program to convert a given list of integers and a tuple of integers in a list of strings.\n",
    "\n",
    "def convert_to_string(list1):\n",
    "    input_type = type(list1)\n",
    "    return (list(map(lambda x: str(x), list1)) if input_type is list else tuple(map(lambda x: str(x), list1)))\n",
    "\n",
    "print(convert_to_string([1, 2, 3]))\n",
    "print(convert_to_string((1, 2, 3)))"
   ]
  },
  {
   "cell_type": "code",
   "execution_count": null,
   "id": "df7920ed",
   "metadata": {},
   "outputs": [
    {
     "name": "stdout",
     "output_type": "stream",
     "text": [
      "student_name : ['Thanapat L', 'Tina B', 'Yuta K', 'Lil Nas Y'] student_birth_date : ['10/04/2002', '17/05/2002', '16/02/1999', '25/09/1998'] student_weight : ['65kg', '47kg', '63kg', '78kg']\n"
     ]
    }
   ],
   "source": [
    "#9. Tuple Elements and String to Int Map\n",
    "\n",
    "# Write a Python program to create a new list taking specific elements from a tuple and convert a string value to an integer.\n",
    "\n",
    "student_data  = [('Thanapat L','10/04/2002','65kg'), ('Tina B','17/05/2002','47kg'), ('Yuta K','16/02/1999', '63kg'), ('Lil Nas Y','25/09/1998', '78kg')]\n",
    "\n",
    "def convert_student_data(data):\n",
    "    student_name = list(map(lambda x: (str(x[0])), data))\n",
    "    student_birth_date = list(map(lambda x: (str(x[1])), data))\n",
    "    student_weight = list(map(lambda x: (str(x[2])), data))\n",
    "    return print(\"student_name :\", student_name,\n",
    "        \"student_birth_date :\", student_birth_date,\n",
    "        \"student_weight :\", student_weight)\n",
    "    \n",
    "convert_student_data(student_data)"
   ]
  },
  {
   "cell_type": "code",
   "execution_count": 121,
   "id": "b1b027f1",
   "metadata": {},
   "outputs": [
    {
     "name": "stdout",
     "output_type": "stream",
     "text": [
      "[0, 1, 1, 4, 9, 25, 64, 169, 441, 1156]\n"
     ]
    }
   ],
   "source": [
    "# 10. Square Fibonacci Map\n",
    "\n",
    "# Write a Python program to compute the square of the first N Fibonacci numbers, using the map function and generate a list of the numbers.\n",
    "\n",
    "def fibonacci_sequence(n):\n",
    "    fib = [0, 1]\n",
    "    for i in range(2, n):\n",
    "        fib.append(fib[i-1] + fib[i-2])\n",
    "    return fib\n",
    "\n",
    "def square_fibonacci_numbers(n):\n",
    "    fib_sequence = fibonacci_sequence(n)\n",
    "    squared = list(map(lambda x: x**2, fib_sequence))\n",
    "    return squared\n",
    "\n",
    "print(square_fibonacci_numbers(10))"
   ]
  },
  {
   "cell_type": "code",
   "execution_count": null,
   "id": "7e972f6b",
   "metadata": {},
   "outputs": [],
   "source": [
    "# Date Time"
   ]
  },
  {
   "cell_type": "code",
   "execution_count": null,
   "id": "73fcf8f1",
   "metadata": {},
   "outputs": [
    {
     "name": "stdout",
     "output_type": "stream",
     "text": [
      "a) Current Date and Time: 2025-08-21\n",
      "b) Current Year: 2025\n",
      "c) Month of year: 8\n",
      "d) Week number of the year: 34\n",
      "e) Weekday of week: 3\n",
      "f) Day of year: 233\n",
      "g) Day of the month: 21\n",
      "h) Day of the week: Thursday\n"
     ]
    }
   ],
   "source": [
    "# 1. DateTime Formats Display\n",
    "\n",
    "# Write a Python script to display the various Date Time formats -\n",
    "# a) Current date and time\n",
    "# b) Current year\n",
    "# c) Month of year\n",
    "# d) Week number of the year\n",
    "# e) Weekday of the week\n",
    "# f) Day of year\n",
    "# g) Day of the month\n",
    "# h) Day of week\n",
    "\n",
    "from datetime import date\n",
    "\n",
    "print(\"a) Current Date and Time:\", date.today())\n",
    "print(\"b) Current Year:\", date.today().year)\n",
    "print(\"c) Month of year:\", date.today().month)\n",
    "print(\"d) Week number of the year:\", date.today().isocalendar()[1])\n",
    "print(\"e) Weekday of week:\", date.today().weekday())\n",
    "print(\"f) Day of year:\", date.today().timetuple().tm_yday)\n",
    "print(\"g) Day of the month:\", date.today().day)\n",
    "print(\"h) Day of the week:\", date.today().strftime(\"%A\"))"
   ]
  },
  {
   "cell_type": "code",
   "execution_count": 137,
   "id": "9f2a86cd",
   "metadata": {},
   "outputs": [
    {
     "name": "stdout",
     "output_type": "stream",
     "text": [
      "Is 2025 a leap year? False\n",
      "Is 2021 a leap year? False\n",
      "Is 2000 a leap year? True\n",
      "Is 1900 a leap year? False\n"
     ]
    }
   ],
   "source": [
    "# 2. Leap Year Checker\n",
    "\n",
    "# Write a Python program to determine whether a given year is a leap year.\n",
    "\n",
    "def is_leap_year(year):\n",
    "    if (year % 4 == 0 and year % 100 != 0) or (year % 400 == 0):\n",
    "        return True\n",
    "    return False\n",
    "\n",
    "print(\"Is 2025 a leap year?\", is_leap_year(2025))\n",
    "print(\"Is 2021 a leap year?\", is_leap_year(2021))\n",
    "print(\"Is 2000 a leap year?\", is_leap_year(2000))\n",
    "print(\"Is 1900 a leap year?\", is_leap_year(1900))"
   ]
  },
  {
   "cell_type": "code",
   "execution_count": null,
   "id": "926d6969",
   "metadata": {},
   "outputs": [
    {
     "name": "stdout",
     "output_type": "stream",
     "text": [
      "2014-07-01 14:43:00\n"
     ]
    }
   ],
   "source": [
    "# 3. String to Datetime Converter\n",
    "\n",
    "# Write a Python program to convert a string to datetime.\n",
    "\n",
    "# Sample String : Jul 1 2014 2:43PM\n",
    "# Expected Output : 2014-07-01 14:43:00\n",
    "\n",
    "import datetime\n",
    "\n",
    "Sample_string = \"Jul 1 2014 2:43PM\"\n",
    "\n",
    "def convert_string_to_date(date_str):\n",
    "    date = datetime.datetime.strptime(date_str, \"%b %d %Y %I:%M%p\")\n",
    "    return date\n",
    "\n",
    "print(convert_string_to_date(Sample_string))"
   ]
  },
  {
   "cell_type": "code",
   "execution_count": 148,
   "id": "9ea6a728",
   "metadata": {},
   "outputs": [
    {
     "name": "stdout",
     "output_type": "stream",
     "text": [
      "13:49:01.568139\n"
     ]
    }
   ],
   "source": [
    "# 4. Current Time Fetcher\n",
    "\n",
    "# Write a Python program to get the current time in Python.\n",
    "\n",
    "# Sample Format :  13:19:49.078205\n",
    "\n",
    "import datetime as d\n",
    "\n",
    "print(d.datetime.now().strftime(\"%H:%M:%S.%f\"))\n"
   ]
  },
  {
   "cell_type": "code",
   "execution_count": 154,
   "id": "24caf64e",
   "metadata": {},
   "outputs": [
    {
     "name": "stdout",
     "output_type": "stream",
     "text": [
      "Current Date : 2025-08-21\n",
      "1.0 days before Current Date : 2025-08-20\n"
     ]
    }
   ],
   "source": [
    "# 5. Subtract Five Days\n",
    "\n",
    "# Write a Python program to subtract five days from the current date.\n",
    "\n",
    "# Sample Date :\n",
    "# Current Date : 2015-06-22\n",
    "# 5 days before Current Date : 2015-06-17\n",
    "\n",
    "import datetime as d\n",
    "\n",
    "def subtract_days(num):\n",
    "    current_date = d.datetime.now()\n",
    "    new_date = current_date - d.timedelta(days=num)\n",
    "    print(\"Current Date :\", current_date.strftime(\"%Y-%m-%d\"))\n",
    "    print(f\"{num} days before Current Date :\", new_date.strftime(\"%Y-%m-%d\"))\n",
    "\n",
    "num = float(input(\"Enter number of days to subtract: \"))\n",
    "subtract_days(num)"
   ]
  },
  {
   "cell_type": "code",
   "execution_count": 155,
   "id": "037d4d06",
   "metadata": {},
   "outputs": [
    {
     "name": "stdout",
     "output_type": "stream",
     "text": [
      "Expected Output : 2010-09-10 15:01:22\n"
     ]
    }
   ],
   "source": [
    "# 6. Unix Timestamp Converter\n",
    "\n",
    "# Write a Python program to convert a Unix timestamp string to a readable date.\n",
    "\n",
    "# Sample Unix timestamp string : 1284105682\n",
    "\n",
    "def convert_unix_to_readable(unix_timestamp):\n",
    "    return d.datetime.fromtimestamp(unix_timestamp).strftime(\"%Y-%m-%d %H:%M:%S\")\n",
    "\n",
    "unix_timestamp = 1284105682\n",
    "print(\"Expected Output :\", convert_unix_to_readable(unix_timestamp))"
   ]
  },
  {
   "cell_type": "code",
   "execution_count": 157,
   "id": "bf2440e6",
   "metadata": {},
   "outputs": [
    {
     "name": "stdout",
     "output_type": "stream",
     "text": [
      "Yesterday : 2025-08-20\n",
      "Today : 2025-08-21\n",
      "Tomorrow : 2025-08-22\n"
     ]
    }
   ],
   "source": [
    "# 7. Relative Dates Printer\n",
    "\n",
    "# Write a Python program to print yesterday, today, tomorrow.\n",
    "\n",
    "def print_relative_dates():\n",
    "    today = d.datetime.now()\n",
    "    yesterday = today - d.timedelta(days=1)\n",
    "    tomorrow = today + d.timedelta(days=1)\n",
    "    print(\"Yesterday :\", yesterday.strftime(\"%Y-%m-%d\"))\n",
    "    print(\"Today :\", today.strftime(\"%Y-%m-%d\"))\n",
    "    print(\"Tomorrow :\", tomorrow.strftime(\"%Y-%m-%d\"))\n",
    "\n",
    "print_relative_dates()"
   ]
  },
  {
   "cell_type": "code",
   "execution_count": 156,
   "id": "676045ea",
   "metadata": {},
   "outputs": [
    {
     "name": "stdout",
     "output_type": "stream",
     "text": [
      "Expected Output : 2015-06-22 00:00:00\n"
     ]
    }
   ],
   "source": [
    "# 8. Date to Midnight Datetime\n",
    "\n",
    "# Write a Python program to convert the date to datetime (midnight of the date) in Python.\n",
    "\n",
    "# Sample Output : 2015-06-22 00:00:00\n",
    "\n",
    "def date_to_midnight(date_str):\n",
    "    date = d.datetime.strptime(date_str, \"%Y-%m-%d\")\n",
    "    return date.replace(hour=0, minute=0, second=0, microsecond=0)  \n",
    "\n",
    "print(\"Expected Output :\", date_to_midnight(\"2015-06-22\"))"
   ]
  },
  {
   "cell_type": "code",
   "execution_count": 158,
   "id": "87c5535c",
   "metadata": {},
   "outputs": [
    {
     "name": "stdout",
     "output_type": "stream",
     "text": [
      "Day 1 : 2025-08-22\n",
      "Day 2 : 2025-08-23\n",
      "Day 3 : 2025-08-24\n",
      "Day 4 : 2025-08-25\n",
      "Day 5 : 2025-08-26\n"
     ]
    }
   ],
   "source": [
    "# 9. Next 5 Days Printer\n",
    "\n",
    "# Write a Python program to print the next 5 days starting today.\n",
    "\n",
    "def print_next_5_days():\n",
    "    today = d.datetime.now()\n",
    "    for i in range(1, 6):\n",
    "        next_day = today + d.timedelta(days=i)\n",
    "        print(f\"Day {i} :\", next_day.strftime(\"%Y-%m-%d\"))\n",
    "\n",
    "print_next_5_days()"
   ]
  },
  {
   "cell_type": "code",
   "execution_count": 167,
   "id": "ab753381",
   "metadata": {},
   "outputs": [
    {
     "name": "stdout",
     "output_type": "stream",
     "text": [
      "Current Time : 14:19:28.868373\n",
      "Time after adding 5 seconds : 14:19:33.868373\n"
     ]
    }
   ],
   "source": [
    "# 10. Add 5 Seconds\n",
    "\n",
    "# Write a Python program to add 5 seconds to the current time.\n",
    "\n",
    "# Sample Data :\n",
    "# 13:28:32.953088\n",
    "# 13:28:37.953088\n",
    "\n",
    "def add_seconds_to_current_time(seconds):\n",
    "    current_time = d.datetime.now()\n",
    "    new_time = current_time + d.timedelta(seconds=seconds)\n",
    "    print(\"Current Time :\", current_time.strftime(\"%H:%M:%S.%f\"))\n",
    "    print(f\"Time after adding {seconds} seconds :\", new_time.strftime(\"%H:%M:%S.%f\"))\n",
    "\n",
    "add_seconds_to_current_time(5)"
   ]
  },
  {
   "cell_type": "code",
   "execution_count": null,
   "id": "ffa5c42d",
   "metadata": {},
   "outputs": [],
   "source": [
    "# Linked List"
   ]
  },
  {
   "cell_type": "code",
   "execution_count": 168,
   "id": "01306f8e",
   "metadata": {},
   "outputs": [
    {
     "name": "stdout",
     "output_type": "stream",
     "text": [
      "1\n",
      "2\n",
      "3\n"
     ]
    }
   ],
   "source": [
    "# 1. Singly Linked List Creation\n",
    "\n",
    "# Write a Python program to create a singly linked list, append some items and iterate through the list.\n",
    "\n",
    "class Node:\n",
    "    def __init__(self, data):\n",
    "        self.data = data\n",
    "        self.next = None\n",
    "\n",
    "class SinglyLinkedList:\n",
    "    def __init__(self):\n",
    "        self.head = None\n",
    "\n",
    "    def append(self, data):\n",
    "        new_node = Node(data)\n",
    "        if not self.head:\n",
    "            self.head = new_node\n",
    "            return\n",
    "        last = self.head\n",
    "        while last.next:\n",
    "            last = last.next\n",
    "        last.next = new_node\n",
    "\n",
    "    def iterate(self):\n",
    "        current = self.head\n",
    "        while current:\n",
    "            print(current.data)\n",
    "            current = current.next\n",
    "\n",
    "# Example usage\n",
    "sll = SinglyLinkedList()\n",
    "sll.append(1)\n",
    "sll.append(2)\n",
    "sll.append(3)\n",
    "sll.iterate()"
   ]
  },
  {
   "cell_type": "code",
   "execution_count": 171,
   "id": "cfc503cc",
   "metadata": {},
   "outputs": [
    {
     "name": "stdout",
     "output_type": "stream",
     "text": [
      "Size of the linked list: 4\n"
     ]
    }
   ],
   "source": [
    "# 2. Singly Linked List Size\n",
    "\n",
    "# Write a Python program to find the size of a singly linked list.\n",
    "\n",
    "class SinglyLinkedList:\n",
    "    def __init__(self):\n",
    "        self.head = None\n",
    "\n",
    "    def append(self, data):\n",
    "        new_node = Node(data)\n",
    "        if not self.head:\n",
    "            self.head = new_node\n",
    "            return\n",
    "        last = self.head\n",
    "        while last.next:\n",
    "            last = last.next\n",
    "        last.next = new_node\n",
    "\n",
    "    def iterate(self):\n",
    "        current = self.head\n",
    "        while current:\n",
    "            print(current.data)\n",
    "            current = current.next\n",
    "\n",
    "    def size(self):\n",
    "        count = 0\n",
    "        current = self.head\n",
    "        while current:\n",
    "            count += 1\n",
    "            current = current.next\n",
    "        return count\n",
    "\n",
    "# Example usage\n",
    "sll = SinglyLinkedList()\n",
    "sll.append(1)\n",
    "sll.append(2)\n",
    "sll.append(3)\n",
    "sll.append(4)\n",
    "print(\"Size of the linked list:\", sll.size())"
   ]
  },
  {
   "cell_type": "code",
   "execution_count": 172,
   "id": "77f8c1e6",
   "metadata": {},
   "outputs": [
    {
     "name": "stdout",
     "output_type": "stream",
     "text": [
      "Search for 2: True\n",
      "Search for 4: False\n"
     ]
    }
   ],
   "source": [
    "# 3. Search in Singly Linked List\n",
    "\n",
    "# Write a Python program to search a specific item in a singly linked list and return true if the item is found otherwise return false.\n",
    "\n",
    "class SinglyLinkedList:\n",
    "    def __init__(self):\n",
    "        self.head = None\n",
    "\n",
    "    def append(self, data):\n",
    "        new_node = Node(data)\n",
    "        if not self.head:\n",
    "            self.head = new_node\n",
    "            return\n",
    "        last = self.head\n",
    "        while last.next:\n",
    "            last = last.next\n",
    "        last.next = new_node\n",
    "\n",
    "    def iterate(self):\n",
    "        current = self.head\n",
    "        while current:\n",
    "            print(current.data)\n",
    "            current = current.next\n",
    "\n",
    "    def search(self, target):\n",
    "        current = self.head\n",
    "        while current:\n",
    "            if current.data == target:\n",
    "                return True\n",
    "            current = current.next\n",
    "        return False\n",
    "\n",
    "# Example usage\n",
    "sll = SinglyLinkedList()\n",
    "sll.append(1)\n",
    "sll.append(2)\n",
    "sll.append(3)\n",
    "print(\"Search for 2:\", sll.search(2))\n",
    "print(\"Search for 4:\", sll.search(4))\n"
   ]
  },
  {
   "cell_type": "code",
   "execution_count": null,
   "id": "7b867ba5",
   "metadata": {},
   "outputs": [
    {
     "name": "stdout",
     "output_type": "stream",
     "text": [
      "Item at index 1: Bike\n",
      "Item at index 3: None\n",
      "Item at index 2: Bus\n"
     ]
    }
   ],
   "source": [
    "# 4. Access by Index in Singly Linked List\n",
    "\n",
    "# Write a Python program to access a specific item in a singly linked list using index value.\n",
    "\n",
    "class SinglyLinkedList:\n",
    "    def __init__(self):\n",
    "        self.head = None\n",
    "\n",
    "    def append(self, data):\n",
    "        new_node = Node(data)\n",
    "        if not self.head:\n",
    "            self.head = new_node\n",
    "            return\n",
    "        last = self.head\n",
    "        while last.next:\n",
    "            last = last.next\n",
    "        last.next = new_node\n",
    "\n",
    "    def iterate(self):\n",
    "        current = self.head\n",
    "        while current:\n",
    "            print(current.data)\n",
    "            current = current.next\n",
    "\n",
    "    def get_item_at_index(self, index):\n",
    "        current = self.head\n",
    "        count = 0\n",
    "        while current:\n",
    "            if count == index:\n",
    "                return current.data\n",
    "            count += 1\n",
    "            current = current.next\n",
    "        return None\n",
    "\n",
    "# Example usage\n",
    "sll = SinglyLinkedList()\n",
    "sll.append(\"Car\")\n",
    "sll.append(\"Bike\")\n",
    "sll.append(\"Bus\")\n",
    "print(\"Item at index 1:\", sll.get_item_at_index(1))\n",
    "print(\"Item at index 3:\", sll.get_item_at_index(3))\n",
    "print(\"Item at index 2:\", sll.get_item_at_index(2))"
   ]
  },
  {
   "cell_type": "code",
   "execution_count": 179,
   "id": "1fbe5d2f",
   "metadata": {},
   "outputs": [
    {
     "name": "stdout",
     "output_type": "stream",
     "text": [
      "Set item at index 1 to 'Truck': True\n",
      "Set item at index 3 to 'Van': False\n",
      "Item at index 1: Truck\n"
     ]
    }
   ],
   "source": [
    "# 5. Set Value by Index in Singly Linked List\n",
    "\n",
    "# Write a Python program to set a new value of an item in a singly linked list using index value.\n",
    "\n",
    "class SinglyLinkedList:\n",
    "    def __init__(self):\n",
    "        self.head = None\n",
    "\n",
    "    def append(self, data):\n",
    "        new_node = Node(data)\n",
    "        if not self.head:\n",
    "            self.head = new_node\n",
    "            return\n",
    "        last = self.head\n",
    "        while last.next:\n",
    "            last = last.next\n",
    "        last.next = new_node\n",
    "\n",
    "    def iterate(self):\n",
    "        current = self.head\n",
    "        while current:\n",
    "            print(current.data)\n",
    "            current = current.next\n",
    "\n",
    "    def get_item_at_index(self, index):\n",
    "        current = self.head\n",
    "        count = 0\n",
    "        while current:\n",
    "            if count == index:\n",
    "                return current.data\n",
    "            count += 1\n",
    "            current = current.next\n",
    "        return None\n",
    "    \n",
    "    def set_item_at_index(self, index, value):\n",
    "        current = self.head\n",
    "        count = 0\n",
    "        while current:\n",
    "            if count == index:\n",
    "                current.data = value\n",
    "                return True\n",
    "            count += 1\n",
    "            current = current.next\n",
    "        return False\n",
    "\n",
    "sll = SinglyLinkedList()\n",
    "sll.append(\"Car\")\n",
    "sll.append(\"Bike\")\n",
    "sll.append(\"Bus\")\n",
    "print(\"Set item at index 1 to 'Truck':\", sll.set_item_at_index(1, \"Truck\"))\n",
    "print(\"Set item at index 3 to 'Van':\", sll.set_item_at_index(3, \"Van\"))\n",
    "print(\"Item at index 1:\", sll.get_item_at_index(1))"
   ]
  },
  {
   "cell_type": "code",
   "execution_count": 180,
   "id": "dd6b2193",
   "metadata": {},
   "outputs": [
    {
     "name": "stdout",
     "output_type": "stream",
     "text": [
      "Delete first item: True\n",
      "Items after deletion:\n",
      "Bike\n",
      "Bus\n"
     ]
    }
   ],
   "source": [
    "# 6. Delete First Item in Singly Linked List\n",
    "\n",
    "# Write a Python program to delete the first item from a singly linked list.\n",
    "\n",
    "class SinglyLinkedList:\n",
    "    def __init__(self):\n",
    "        self.head = None\n",
    "\n",
    "    def append(self, data):\n",
    "        new_node = Node(data)\n",
    "        if not self.head:\n",
    "            self.head = new_node\n",
    "            return\n",
    "        last = self.head\n",
    "        while last.next:\n",
    "            last = last.next\n",
    "        last.next = new_node\n",
    "\n",
    "    def iterate(self):\n",
    "        current = self.head\n",
    "        while current:\n",
    "            print(current.data)\n",
    "            current = current.next\n",
    "\n",
    "    def delete_first_item(self):\n",
    "        if not self.head:\n",
    "            return False\n",
    "        self.head = self.head.next\n",
    "        return True\n",
    "\n",
    "sll = SinglyLinkedList()\n",
    "sll.append(\"Car\")\n",
    "sll.append(\"Bike\")\n",
    "sll.append(\"Bus\")\n",
    "print(\"Delete first item:\", sll.delete_first_item())\n",
    "print(\"Items after deletion:\")\n",
    "sll.iterate()"
   ]
  },
  {
   "cell_type": "code",
   "execution_count": 182,
   "id": "e41e6bb9",
   "metadata": {},
   "outputs": [
    {
     "name": "stdout",
     "output_type": "stream",
     "text": [
      "Delete last item: True\n",
      "Items after deletion:\n",
      "Car\n",
      "Bike\n",
      "Bus\n"
     ]
    }
   ],
   "source": [
    "# 7. Delete Last Item in Singly Linked List\n",
    "\n",
    "# Write a Python program to delete the last item from a singly linked list.\n",
    "\n",
    "class SinglyLinkedList:\n",
    "    def __init__(self):\n",
    "        self.head = None\n",
    "\n",
    "    def append(self, data):\n",
    "        new_node = Node(data)\n",
    "        if not self.head:\n",
    "            self.head = new_node\n",
    "            return\n",
    "        last = self.head\n",
    "        while last.next:\n",
    "            last = last.next\n",
    "        last.next = new_node\n",
    "\n",
    "    def iterate(self):\n",
    "        current = self.head\n",
    "        while current:\n",
    "            print(current.data)\n",
    "            current = current.next\n",
    "\n",
    "    def delete_last_item(self):\n",
    "        if not self.head:\n",
    "            return False\n",
    "        if not self.head.next:\n",
    "            self.head = None\n",
    "            return True\n",
    "        second_last = self.head\n",
    "        while second_last.next and second_last.next.next:\n",
    "            second_last = second_last.next\n",
    "        second_last.next = None\n",
    "        return True\n",
    "\n",
    "sll = SinglyLinkedList()\n",
    "sll.append(\"Car\")\n",
    "sll.append(\"Bike\")\n",
    "sll.append(\"Bus\")\n",
    "sll.append(\"Van\")\n",
    "print(\"Delete last item:\", sll.delete_last_item())\n",
    "print(\"Items after deletion:\")\n",
    "sll.iterate()"
   ]
  },
  {
   "cell_type": "code",
   "execution_count": 183,
   "id": "17d784a8",
   "metadata": {},
   "outputs": [
    {
     "name": "stdout",
     "output_type": "stream",
     "text": [
      "Items in the doubly linked list (forward):\n",
      "Car\n",
      "Bike\n",
      "Bus\n"
     ]
    }
   ],
   "source": [
    "# 8. Doubly Linked List Forward Iteration\n",
    "\n",
    "# Write a Python program to create a doubly linked list, append some items and iterate through the list (print forward).\n",
    "\n",
    "class Node:\n",
    "    def __init__(self, data):\n",
    "        self.data = data\n",
    "        self.next = None\n",
    "        self.prev = None\n",
    "\n",
    "class DoublyLinkedList:\n",
    "    def __init__(self):\n",
    "        self.head = None\n",
    "\n",
    "    def append(self, data):\n",
    "        new_node = Node(data)\n",
    "        if not self.head:\n",
    "            self.head = new_node\n",
    "            return\n",
    "        last = self.head\n",
    "        while last.next:\n",
    "            last = last.next\n",
    "        last.next = new_node\n",
    "        new_node.prev = last\n",
    "\n",
    "    def iterate_forward(self):\n",
    "        current = self.head\n",
    "        while current:\n",
    "            print(current.data)\n",
    "            current = current.next\n",
    "\n",
    "dll = DoublyLinkedList()\n",
    "dll.append(\"Car\")\n",
    "dll.append(\"Bike\")\n",
    "dll.append(\"Bus\")\n",
    "print(\"Items in the doubly linked list (forward):\")\n",
    "dll.iterate_forward()"
   ]
  },
  {
   "cell_type": "code",
   "execution_count": 186,
   "id": "ee024cd0",
   "metadata": {},
   "outputs": [
    {
     "name": "stdout",
     "output_type": "stream",
     "text": [
      "Items in the doubly linked list (backward):\n",
      "Bus\n",
      "Bike\n",
      "Car\n"
     ]
    }
   ],
   "source": [
    "# 9. Doubly Linked List Backward from Current\n",
    "\n",
    "# Write a Python program to create a doubly linked list and print nodes from current position to first node.\n",
    "\n",
    "class Node:\n",
    "    def __init__(self, data):\n",
    "        self.data = data\n",
    "        self.next = None\n",
    "        self.prev = None\n",
    "\n",
    "class DoublyLinkedList:\n",
    "    def __init__(self):\n",
    "        self.head = None\n",
    "\n",
    "    def append(self, data):\n",
    "        new_node = Node(data)\n",
    "        if not self.head:\n",
    "            self.head = new_node\n",
    "            return\n",
    "        last = self.head\n",
    "        while last.next:\n",
    "            last = last.next\n",
    "        last.next = new_node\n",
    "        new_node.prev = last\n",
    "\n",
    "    def iterate_backward(self):\n",
    "        current = self.head\n",
    "        while current and current.next:\n",
    "            current = current.next\n",
    "        while current:\n",
    "            print(current.data)\n",
    "            current = current.prev\n",
    "\n",
    "dll = DoublyLinkedList()\n",
    "dll.append(\"Car\")\n",
    "dll.append(\"Bike\")\n",
    "dll.append(\"Bus\")\n",
    "print(\"Items in the doubly linked list (backward):\")\n",
    "dll.iterate_backward()"
   ]
  },
  {
   "cell_type": "code",
   "execution_count": 188,
   "id": "cf1a47db",
   "metadata": {},
   "outputs": [
    {
     "name": "stdout",
     "output_type": "stream",
     "text": [
      "Number of items in the doubly linked list: 4\n"
     ]
    }
   ],
   "source": [
    "# 10. Count Items in Doubly Linked List\n",
    "\n",
    "# Write a Python program to count the number of items of a given doubly linked list.\n",
    "\n",
    "class Node:\n",
    "    def __init__(self, data):\n",
    "        self.data = data\n",
    "        self.next = None\n",
    "        self.prev = None\n",
    "\n",
    "class DoublyLinkedList:\n",
    "    def __init__(self):\n",
    "        self.head = None\n",
    "\n",
    "    def append(self, data):\n",
    "        new_node = Node(data)\n",
    "        if not self.head:\n",
    "            self.head = new_node\n",
    "            return\n",
    "        last = self.head\n",
    "        while last.next:\n",
    "            last = last.next\n",
    "        last.next = new_node\n",
    "        new_node.prev = last\n",
    "\n",
    "    def count_items(self):\n",
    "        current = self.head\n",
    "        count = 0\n",
    "        while current:\n",
    "            count += 1\n",
    "            current = current.next\n",
    "        return count\n",
    "\n",
    "dll = DoublyLinkedList()\n",
    "dll.append(\"Car\")\n",
    "dll.append(\"Bike\")\n",
    "dll.append(\"Bus\")\n",
    "dll.append(\"Truck\")\n",
    "print(\"Number of items in the doubly linked list:\", dll.count_items())"
   ]
  },
  {
   "cell_type": "code",
   "execution_count": null,
   "id": "fc5c76bb",
   "metadata": {},
   "outputs": [],
   "source": [
    "# Set"
   ]
  },
  {
   "cell_type": "code",
   "execution_count": null,
   "id": "3ddfc324",
   "metadata": {},
   "outputs": [
    {
     "name": "stdout",
     "output_type": "stream",
     "text": [
      "Set A: <class 'set'>\n",
      "Items in Set A: {0, 1, 2, 3, 4}\n"
     ]
    }
   ],
   "source": [
    "# 1. Create a Set\n",
    "\n",
    "# Write a Python program to create a set.\n",
    "\n",
    "A = set([0, 1, 2, 3, 4])\n",
    "\n",
    "print(\"Set A:\", type(A))\n",
    "print(\"Items in Set A:\", A)"
   ]
  },
  {
   "cell_type": "code",
   "execution_count": 192,
   "id": "fc86d79f",
   "metadata": {},
   "outputs": [
    {
     "name": "stdout",
     "output_type": "stream",
     "text": [
      "Items in Set A:\n",
      "0\n",
      "1\n",
      "2\n",
      "3\n",
      "4\n"
     ]
    }
   ],
   "source": [
    "# 2. Iterate Over Sets\n",
    "\n",
    "# Write a Python program to iterate over sets.\n",
    "\n",
    "A = set([0, 1, 2, 3, 4])\n",
    "print(\"Items in Set A:\")\n",
    "for item in A:\n",
    "    print(item)"
   ]
  },
  {
   "cell_type": "code",
   "execution_count": 193,
   "id": "81f17930",
   "metadata": {},
   "outputs": [
    {
     "name": "stdout",
     "output_type": "stream",
     "text": [
      "Set A before adding: {0, 1, 2, 3, 4}\n",
      "Set A after adding members: {0, 1, 2, 3, 4, 5, 6, 7}\n"
     ]
    }
   ],
   "source": [
    "# 3. Add Member(s) to a Set\n",
    "\n",
    "# Write a Python program to add member(s) to a set.\n",
    "\n",
    "A = set([0, 1, 2, 3, 4])\n",
    "print(\"Set A before adding:\", A)\n",
    "A.add(5)\n",
    "A.update([6, 7])\n",
    "print(\"Set A after adding members:\", A)"
   ]
  },
  {
   "cell_type": "code",
   "execution_count": 197,
   "id": "45a9f022",
   "metadata": {},
   "outputs": [
    {
     "name": "stdout",
     "output_type": "stream",
     "text": [
      "Set A before removing: {0, 1, 2, 3, 4}\n",
      "Set A after removing: {0, 2, 3, 4}\n"
     ]
    }
   ],
   "source": [
    "# 4. Remove Item(s) from a Given Set\n",
    "\n",
    "# Write a Python program to remove item(s) from a given set.\n",
    "\n",
    "A = set([0, 1, 2, 3, 4])\n",
    "print(\"Set A before removing:\", A)\n",
    "A.remove(1)\n",
    "print(\"Set A after removing:\", A)"
   ]
  },
  {
   "cell_type": "code",
   "execution_count": 198,
   "id": "fdbdc413",
   "metadata": {},
   "outputs": [
    {
     "name": "stdout",
     "output_type": "stream",
     "text": [
      "Set A before removing: {0, 1, 2, 3, 4}\n",
      "Set A after removing: {0, 1, 3, 4}\n"
     ]
    }
   ],
   "source": [
    "# 5. Remove an Item from a Set if Present\n",
    "\n",
    "# Write a Python program to remove an item from a set if it is present in the set.\n",
    "\n",
    "A = set([0, 1, 2, 3, 4])\n",
    "print(\"Set A before removing:\", A)\n",
    "A.discard(2)\n",
    "print(\"Set A after removing:\", A)"
   ]
  },
  {
   "cell_type": "code",
   "execution_count": 199,
   "id": "a5ad49dd",
   "metadata": {},
   "outputs": [
    {
     "name": "stdout",
     "output_type": "stream",
     "text": [
      "Intersection of Set A and Set B: {2, 3, 4}\n"
     ]
    }
   ],
   "source": [
    "# 6. Create an Intersection of Sets\n",
    "\n",
    "# Write a Python program to create an intersection of sets.\n",
    "\n",
    "A = set([0, 1, 2, 3, 4])\n",
    "B = set([2, 3, 4, 5, 6])\n",
    "C = A.intersection(B)\n",
    "print(\"Intersection of Set A and Set B:\", C)"
   ]
  },
  {
   "cell_type": "code",
   "execution_count": 200,
   "id": "0084d365",
   "metadata": {},
   "outputs": [
    {
     "name": "stdout",
     "output_type": "stream",
     "text": [
      "Intersection of Set A and Set B: {0, 1, 2, 3, 4, 5, 6}\n"
     ]
    }
   ],
   "source": [
    "# 7. Create a Union of Sets\n",
    "\n",
    "# Write a Python program to create a union of sets.\n",
    "\n",
    "A = set([0, 1, 2, 3, 4])\n",
    "B = set([2, 3, 4, 5, 6])\n",
    "C = A.union(B)\n",
    "print(\"Intersection of Set A and Set B:\", C)"
   ]
  },
  {
   "cell_type": "code",
   "execution_count": 202,
   "id": "62ded143",
   "metadata": {},
   "outputs": [
    {
     "name": "stdout",
     "output_type": "stream",
     "text": [
      "Set difference between setc1 and setc2: {'A'}\n"
     ]
    }
   ],
   "source": [
    "# 8. Create Set Difference\n",
    "\n",
    "# Write a Python program to create set difference.\n",
    "\n",
    "setc1 = set([\"A\", \"B\"])\n",
    "setc2 = set([\"B\", \"C\"])\n",
    "\n",
    "set_difference = setc1.difference(setc2)\n",
    "print(\"Set difference between setc1 and setc2:\", set_difference)"
   ]
  },
  {
   "cell_type": "code",
   "execution_count": 203,
   "id": "42139ce9",
   "metadata": {},
   "outputs": [
    {
     "name": "stdout",
     "output_type": "stream",
     "text": [
      "Symmetric difference between setc1 and setc2: {'A', 'C'}\n"
     ]
    }
   ],
   "source": [
    "# 9. Create a Symmetric Difference\n",
    "\n",
    "# Write a Python program to create a symmetric difference.\n",
    "\n",
    "setc1 = set([\"A\", \"B\"])\n",
    "setc2 = set([\"B\", \"C\"])\n",
    "\n",
    "symmetric_difference = setc1.symmetric_difference(setc2)\n",
    "print(\"Symmetric difference between setc1 and setc2:\", symmetric_difference)"
   ]
  },
  {
   "cell_type": "code",
   "execution_count": 204,
   "id": "c9a0ac6f",
   "metadata": {},
   "outputs": [
    {
     "name": "stdout",
     "output_type": "stream",
     "text": [
      "Is setc1 a subset of setc2? False\n"
     ]
    }
   ],
   "source": [
    "# 10. Check if a Set is a Subset of Another Set\n",
    "\n",
    "# Write a Python program to check if a set is a subset of another set.\n",
    "\n",
    "setc1 = set([\"A\", \"B\"])\n",
    "setc2 = set([\"B\", \"C\"])\n",
    "\n",
    "is_subset = setc1.issubset(setc2)\n",
    "print(\"Is setc1 a subset of setc2?\", is_subset)"
   ]
  }
 ],
 "metadata": {
  "kernelspec": {
   "display_name": "Python 3",
   "language": "python",
   "name": "python3"
  },
  "language_info": {
   "codemirror_mode": {
    "name": "ipython",
    "version": 3
   },
   "file_extension": ".py",
   "mimetype": "text/x-python",
   "name": "python",
   "nbconvert_exporter": "python",
   "pygments_lexer": "ipython3",
   "version": "3.13.1"
  }
 },
 "nbformat": 4,
 "nbformat_minor": 5
}
