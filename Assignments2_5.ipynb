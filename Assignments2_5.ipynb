{
 "cells": [
  {
   "cell_type": "code",
   "execution_count": null,
   "id": "02bfcb28",
   "metadata": {},
   "outputs": [],
   "source": [
    "# Object-oriented Programming"
   ]
  },
  {
   "cell_type": "code",
   "execution_count": 2,
   "id": "b8dd105b",
   "metadata": {},
   "outputs": [
    {
     "name": "stdout",
     "output_type": "stream",
     "text": [
      "The area of this circle is : 452.3893421169302\n",
      "The perimeter of this circle is : 75.39822368615503\n"
     ]
    }
   ],
   "source": [
    "# 1. Circle Class for Area and Perimeter\n",
    "\n",
    "# Write a Python program to create a class representing a Circle. Include methods to calculate its area and perimeter.\n",
    "import math as m\n",
    "\n",
    "\n",
    "class circle:\n",
    "    def __init__(self,radius):\n",
    "        self.radius = radius\n",
    "    \n",
    "\n",
    "    def cal_circle_area(self):\n",
    "        return m.pi*self.radius**2\n",
    "\n",
    "    def cal_circle_perimeter(self):\n",
    "        return 2*m.pi*self.radius\n",
    "    \n",
    "\n",
    "radius = float(input(\"Input the radius of the circle : \"))\n",
    "circle_r = circle(radius)\n",
    "print(f\"The area of this circle is : {circle.cal_circle_area(circle_r)}\")\n",
    "print(f\"The perimeter of this circle is : {circle.cal_circle_perimeter(circle_r)}\")"
   ]
  },
  {
   "cell_type": "code",
   "execution_count": 6,
   "id": "d1d63fab",
   "metadata": {},
   "outputs": [
    {
     "name": "stdout",
     "output_type": "stream",
     "text": [
      "Person 1:\n",
      "Name: Charles Leclerc\n",
      "Country: France\n",
      "Date of Birth: 1997-10-16\n",
      "Age: 27\n"
     ]
    }
   ],
   "source": [
    "# 2. Person Class with Age Calculation\n",
    "\n",
    "# Write a Python program to create a person class. Include attributes like name, country and date of birth. Implement a method to determine the person's age.\n",
    "from datetime import date\n",
    "\n",
    "class People:\n",
    "    def __init__(self,name,country,date_of_birth):\n",
    "        self.name = name\n",
    "        self.country = country\n",
    "        self.date_of_birth = date_of_birth\n",
    "\n",
    "    def cal_age(self):\n",
    "        today = date.today()\n",
    "        age = today.year - self.date_of_birth.year\n",
    "        if today < date(today.year, self.date_of_birth.month, self.date_of_birth.day):\n",
    "            age -= 1\n",
    "        return age\n",
    "    \n",
    "Person1 = People(\"Charles Leclerc\", \"France\", date(1997, 10, 16))\n",
    "\n",
    "print(\"Person 1:\")\n",
    "print(\"Name:\", Person1.name)\n",
    "print(\"Country:\", Person1.country)\n",
    "print(\"Date of Birth:\", Person1.date_of_birth)\n",
    "print(\"Age:\", Person1.cal_age())"
   ]
  },
  {
   "cell_type": "code",
   "execution_count": null,
   "id": "8bad5812",
   "metadata": {},
   "outputs": [
    {
     "name": "stdout",
     "output_type": "stream",
     "text": [
      "8\n",
      "2\n",
      "15\n",
      "1.6666666666666667\n",
      "Division by zero error\n"
     ]
    }
   ],
   "source": [
    "    # 3. Calculator Class for Basic Arithmetic Operations\n",
    "\n",
    "    # Write a Python program to create a calculator class. Include methods for basic arithmetic operations.\n",
    "\n",
    "class Calculator:\n",
    "    def add(self, a, b):\n",
    "        return a + b\n",
    "\n",
    "    def subtract(self, a, b):\n",
    "        return a - b\n",
    "\n",
    "    def multiply(self, a, b):\n",
    "        return a * b\n",
    "\n",
    "    def divide(self, a, b):\n",
    "        if b != 0:\n",
    "            return a / b\n",
    "        else:\n",
    "            return \"Can not divide by zero\"\n",
    "\n",
    "calc = Calculator()\n",
    "print(calc.add(5, 3))\n",
    "print(calc.subtract(5, 3))\n",
    "print(calc.multiply(5, 3))\n",
    "print(calc.divide(5, 3))\n",
    "print(calc.divide(5, 0))"
   ]
  },
  {
   "cell_type": "code",
   "execution_count": null,
   "id": "2d5630c1",
   "metadata": {},
   "outputs": [
    {
     "name": "stdout",
     "output_type": "stream",
     "text": [
      "Area of the circle: 28.274333882308138\n",
      "Perimeter of the circle: 18.84955592153876\n",
      "Area of the triangle: 18.0\n",
      "Perimeter of the triangle: 36.0\n",
      "Area of the square: 9.0\n",
      "Perimeter of the square: 12.0\n"
     ]
    }
   ],
   "source": [
    "# 4. Shape Class with Subclasses for Different Shapes\n",
    "\n",
    "# Write a Python program to create a class that represents a shape. Include methods to calculate its area and perimeter. Implement subclasses for different shapes like circle, triangle, and square.\n",
    "import math as m\n",
    "class Circle:\n",
    "    def __init__(self, radius):\n",
    "        self.radius = radius\n",
    "\n",
    "    def area(self):\n",
    "        return m.pi * self.radius * self.radius\n",
    "\n",
    "    def perimeter(self):\n",
    "        return 2 * m.pi * self.radius\n",
    "\n",
    "\n",
    "class Triangle:\n",
    "    def __init__(self, base, height):\n",
    "        self.base = base\n",
    "        self.height = height\n",
    "\n",
    "    def area(self):\n",
    "        return 0.5 * self.base * self.height\n",
    "\n",
    "    def perimeter(self):\n",
    "        # Assuming it's an equilateral triangle\n",
    "        return 3 * self.base\n",
    "\n",
    "class Square:\n",
    "    def __init__(self, side):\n",
    "        self.side = side\n",
    "\n",
    "    def area(self):\n",
    "        return self.side * self.side\n",
    "\n",
    "    def perimeter(self):\n",
    "        return 4 * self.side\n",
    "\n",
    "\n",
    "radius = float(input(\"Input the radius of the circle: \"))\n",
    "circle = Circle(radius)\n",
    "print(\"Area of the circle:\", circle.area())\n",
    "print(\"Perimeter of the circle:\", circle.perimeter())\n",
    "\n",
    "base = float(input(\"Input the base of the triangle: \"))\n",
    "height = float(input(\"Input the height of the triangle: \"))\n",
    "triangle = Triangle(base, height)\n",
    "print(\"Area of the triangle:\", triangle.area())\n",
    "print(\"Perimeter of the triangle:\", triangle.perimeter())\n",
    "\n",
    "side = float(input(\"Input the side of the square: \"))\n",
    "square = Square(side)\n",
    "print(\"Area of the square:\", square.area())\n",
    "print(\"Perimeter of the square:\", square.perimeter())\n"
   ]
  },
  {
   "cell_type": "code",
   "execution_count": 5,
   "id": "2223cc9f",
   "metadata": {},
   "outputs": [
    {
     "name": "stdout",
     "output_type": "stream",
     "text": [
      "Search for 10 in the BinarySearchTree: True\n"
     ]
    }
   ],
   "source": [
    "# 5. Binary Search Tree Class\n",
    "\n",
    "# Write a Python program to create a class representing a binary search tree. Include methods for inserting and searching for elements in the binary tree.\n",
    "\n",
    "class Node:\n",
    "    def __init__(self, value):\n",
    "        self.value = value\n",
    "        self.left = None\n",
    "        self.right = None\n",
    "\n",
    "class BinarySearchTree:\n",
    "    def __init__(self):\n",
    "        self.root = None\n",
    "\n",
    "    def insert(self, key):\n",
    "        self.root = insert(self.root, key)\n",
    "\n",
    "    def search(self, key):\n",
    "        current = self.root\n",
    "        while current:\n",
    "            if current.value == key:\n",
    "                return True\n",
    "            elif key < current.value:\n",
    "                current = current.left\n",
    "            else:\n",
    "                current = current.right\n",
    "        return False\n",
    "def insert(root, key):\n",
    "    if root is None:\n",
    "        return Node(key)\n",
    "    if key < root.value:\n",
    "        root.left = insert(root.left, key)\n",
    "    else:\n",
    "        root.right = insert(root.right, key)\n",
    "    return root\n",
    "\n",
    "BST = BinarySearchTree()\n",
    "elements = [7, 3, 9, 1, 5, 8, 10]\n",
    "for e in elements:\n",
    "    BST.insert(e)\n",
    "search_key = 10\n",
    "print(\"Search for\", search_key, \"in the BinarySearchTree:\", BST.search(search_key))"
   ]
  },
  {
   "cell_type": "code",
   "execution_count": 6,
   "id": "2578f374",
   "metadata": {},
   "outputs": [
    {
     "name": "stdout",
     "output_type": "stream",
     "text": [
      "Top element is: 3\n",
      "Stack size is: 3\n",
      "Popped element is: 3\n",
      "Stack size after pop is: 2\n",
      "Stack size after clear is: 0\n"
     ]
    }
   ],
   "source": [
    "# 6. Stack Data Structure Class\n",
    "\n",
    "# Write a Python program to create a class representing a stack data structure. Include methods for pushing and popping elements.\n",
    "\n",
    "class Stack:\n",
    "    def __init__(self):\n",
    "        self.stack = []\n",
    "\n",
    "    def push(self, item):\n",
    "        self.stack.append(item)\n",
    "\n",
    "    def pop(self):\n",
    "        if not len(self.stack) == 0:\n",
    "            return self.stack.pop()\n",
    "        return None\n",
    "\n",
    "    def peek(self):\n",
    "        if not len(self.stack) == 0:\n",
    "            return self.stack[-1]\n",
    "        return None\n",
    "\n",
    "    def size(self):\n",
    "        return len(self.stack)\n",
    "\n",
    "    def clear(self):\n",
    "        self.stack = []\n",
    "        \n",
    "\n",
    "stack = Stack()\n",
    "stack.push(1)\n",
    "stack.push(2)\n",
    "stack.push(3)\n",
    "print(\"Top element is:\", stack.peek())\n",
    "print(\"Stack size is:\", stack.size())\n",
    "print(\"Popped element is:\", stack.pop())\n",
    "print(\"Stack size after pop is:\", stack.size())\n",
    "stack.clear()\n",
    "print(\"Stack size after clear is:\", stack.size())"
   ]
  },
  {
   "cell_type": "code",
   "execution_count": 9,
   "id": "14df5b10",
   "metadata": {},
   "outputs": [
    {
     "name": "stdout",
     "output_type": "stream",
     "text": [
      "1 -> 2 -> 3 -> None\n",
      "1 -> 3 -> None\n"
     ]
    }
   ],
   "source": [
    "# 7. Linked List Data Structure Class\n",
    "\n",
    "# Write a Python program to create a class representing a linked list data structure. Include methods for displaying linked list data, inserting and deleting nodes.\n",
    "\n",
    "class Node:\n",
    "    def __init__(self, data):\n",
    "        self.data = data\n",
    "        self.next = None\n",
    "\n",
    "class LinkedList:\n",
    "    def __init__(self):\n",
    "        self.head = None\n",
    "\n",
    "    def display(self):\n",
    "        current = self.head\n",
    "        while current:\n",
    "            print(current.data, end=\" -> \")\n",
    "            current = current.next\n",
    "        print(\"None\")\n",
    "\n",
    "    def insert(self, data):\n",
    "        new_node = Node(data)\n",
    "        if not self.head:\n",
    "            self.head = new_node\n",
    "        else:\n",
    "            current = self.head\n",
    "            while current.next:\n",
    "                current = current.next\n",
    "            current.next = new_node\n",
    "\n",
    "    def delete(self, data):\n",
    "        if not self.head:\n",
    "            return\n",
    "\n",
    "        if self.head.data == data:\n",
    "            self.head = self.head.next\n",
    "            return\n",
    "\n",
    "        current = self.head\n",
    "        prev = None\n",
    "        while current and current.data != data:\n",
    "            prev = current\n",
    "            current = current.next\n",
    "\n",
    "        if current:\n",
    "            prev.next = current.next\n",
    "\n",
    "\n",
    "Link = LinkedList()\n",
    "Link.insert(1)\n",
    "Link.insert(2)\n",
    "Link.insert(3)\n",
    "Link.display()\n",
    "Link.delete(2)\n",
    "Link.display()"
   ]
  },
  {
   "cell_type": "code",
   "execution_count": 10,
   "id": "b78b5fa9",
   "metadata": {},
   "outputs": [
    {
     "name": "stdout",
     "output_type": "stream",
     "text": [
      "Shopping Cart:\n",
      " - Apple: $0.99\n",
      " - Apple: $0.99\n",
      " - Banana: $0.59\n",
      " - Banana: $0.59\n",
      " - Banana: $0.59\n",
      "Total: $3.75\n"
     ]
    }
   ],
   "source": [
    "# 8. Shopping Cart Class\n",
    "\n",
    "# Write a Python program to create a class representing a shopping cart. Include methods for adding and removing items, and calculating the total price.\n",
    "\n",
    "class ShoppingCart:\n",
    "    def __init__(self):\n",
    "        self.items = []\n",
    "\n",
    "    def add_item(self, item, amount, price):\n",
    "        for i in range(amount):\n",
    "            self.items.append({\"item\": item, \"price\": price})\n",
    "\n",
    "    def remove_item(self, item):\n",
    "        self.items = [i for i in self.items if i[\"item\"] != item]\n",
    "\n",
    "    def get_total(self):\n",
    "        return sum(i[\"price\"] for i in self.items)\n",
    "\n",
    "    def display_cart(self):\n",
    "        if not self.items:\n",
    "            print(\"Shopping cart is empty.\")\n",
    "            return\n",
    "        print(\"Shopping Cart:\")\n",
    "        for i in self.items:\n",
    "            print(f\" - {i['item']}: ${i['price']:.2f}\")\n",
    "        print(f\"Total: ${self.get_total():.2f}\")\n",
    "\n",
    "\n",
    "Cart = ShoppingCart()\n",
    "Cart.add_item(\"Apple\", 2, 0.99)\n",
    "Cart.add_item(\"Banana\", 3, 0.59)\n",
    "Cart.display_cart()"
   ]
  },
  {
   "cell_type": "code",
   "execution_count": 11,
   "id": "b0d27860",
   "metadata": {},
   "outputs": [
    {
     "name": "stdout",
     "output_type": "stream",
     "text": [
      "Stack elements:\n",
      " - 3\n",
      " - 2\n",
      " - 1\n",
      "Stack elements:\n",
      " - 2\n",
      " - 1\n"
     ]
    }
   ],
   "source": [
    "# 9. Stack Data Structure Class with Display Method\n",
    "\n",
    "# Write a Python program to create a class representing a stack data structure. Include methods for pushing, popping and displaying elements.\n",
    "\n",
    "class Stack:\n",
    "    def __init__(self):\n",
    "        self.items = []\n",
    "\n",
    "    def push(self, item):\n",
    "        self.items.append(item)\n",
    "\n",
    "    def pop(self):\n",
    "        if not self.items:\n",
    "            return None\n",
    "        return self.items.pop()\n",
    "\n",
    "    def display(self):\n",
    "        if not self.items:\n",
    "            print(\"Stack is empty.\")\n",
    "            return\n",
    "        print(\"Stack elements:\")\n",
    "        for item in reversed(self.items):\n",
    "            print(f\" - {item}\")\n",
    "\n",
    "\n",
    "# Example usage\n",
    "stack = Stack()\n",
    "stack.push(1)\n",
    "stack.push(2)\n",
    "stack.push(3)\n",
    "stack.display()\n",
    "stack.pop()\n",
    "stack.display()"
   ]
  },
  {
   "cell_type": "code",
   "execution_count": null,
   "id": "b4620149",
   "metadata": {},
   "outputs": [
    {
     "name": "stdout",
     "output_type": "stream",
     "text": [
      "Queue elements:\n",
      " - 1\n",
      " - 2\n",
      " - 3\n",
      "Queue elements:\n",
      " - 2\n",
      " - 3\n"
     ]
    }
   ],
   "source": [
    "# 10. Queue Data Structure Class\n",
    "\n",
    "# Write a Python program to create a class representing a queue data structure. Include methods for enqueueing and dequeueing elements.\n",
    "\n",
    "class Queue:\n",
    "    def __init__(self):\n",
    "        self.items = []\n",
    "\n",
    "    def enqueue(self, item):\n",
    "        self.items.append(item)\n",
    "\n",
    "    def dequeue(self):\n",
    "        if not self.items:\n",
    "            return \"Cannot dequeue from an empty queue.\"\n",
    "        return self.items.pop(0)\n",
    "\n",
    "    def display(self):\n",
    "        if not self.items:\n",
    "            print(\"Queue is empty.\")\n",
    "            return\n",
    "        print(\"Queue elements:\")\n",
    "        for item in self.items:\n",
    "            print(f\" - {item}\")\n",
    "\n",
    "\n",
    "queue = Queue()\n",
    "queue.enqueue(1)\n",
    "queue.enqueue(2)\n",
    "queue.enqueue(3)\n",
    "queue.display()\n",
    "queue.dequeue()\n",
    "queue.display()\n"
   ]
  },
  {
   "cell_type": "code",
   "execution_count": null,
   "id": "c6abdbe0",
   "metadata": {},
   "outputs": [],
   "source": [
    "# Class"
   ]
  },
  {
   "cell_type": "code",
   "execution_count": 13,
   "id": "1fe47ccb",
   "metadata": {},
   "outputs": [
    {
     "name": "stdout",
     "output_type": "stream",
     "text": [
      "__name__\n",
      "__doc__\n",
      "__package__\n",
      "__loader__\n",
      "__spec__\n",
      "_array_reconstructor\n",
      "ArrayType\n",
      "array\n",
      "typecodes\n"
     ]
    }
   ],
   "source": [
    "# 1. Import Built-in Array Module and Display Namespace\n",
    "\n",
    "# Write a Python program to import a built-in array module and display the namespace of the said module.\n",
    "\n",
    "import array\n",
    "\n",
    "for name in array.__dict__:\n",
    "    print(name)\n"
   ]
  },
  {
   "cell_type": "code",
   "execution_count": 21,
   "id": "5bc7297d",
   "metadata": {},
   "outputs": [
    {
     "name": "stdout",
     "output_type": "stream",
     "text": [
      "Class namespace: {'__module__': '__main__', '__firstlineno__': 5, '__init__': <function MyClass.__init__ at 0x0000022B0EAAAD40>, 'method1': <function MyClass.method1 at 0x0000022B0EAAADE0>, 'method2': <function MyClass.method2 at 0x0000022B0EAAAE80>, '__static_attributes__': ('attribute1', 'attribute2'), '__dict__': <attribute '__dict__' of 'MyClass' objects>, '__weakref__': <attribute '__weakref__' of 'MyClass' objects>, '__doc__': None}\n"
     ]
    }
   ],
   "source": [
    "# 2. Create a Class and Display Its Namespace\n",
    "\n",
    "# Write a Python program to create a class and display the namespace of that class.\n",
    "\n",
    "class MyClass:\n",
    "    def __init__(self):\n",
    "        self.attribute1 = \"Value 1\"\n",
    "        self.attribute2 = \"Value 2\"\n",
    "\n",
    "    def method1(self):\n",
    "        return \"Method 1\"\n",
    "\n",
    "    def method2(self):\n",
    "        return \"Method 2\"\n",
    "\n",
    "print(\"Class namespace:\", MyClass.__dict__)\n"
   ]
  },
  {
   "cell_type": "code",
   "execution_count": 22,
   "id": "25fa8f80",
   "metadata": {},
   "outputs": [
    {
     "name": "stdout",
     "output_type": "stream",
     "text": [
      "Instance namespace: {'attribute1': 'Value 1', 'attribute2': 'Value 2'}\n"
     ]
    }
   ],
   "source": [
    "# 3. Create an instance of a class and display its namespace\n",
    "\n",
    "# Write a Python program to create an instance of a specified class and display the namespace of the said instance.\n",
    "\n",
    "my_instance = MyClass()\n",
    "print(\"Instance namespace:\", my_instance.__dict__)\n"
   ]
  },
  {
   "cell_type": "code",
   "execution_count": 23,
   "id": "a6fc490b",
   "metadata": {},
   "outputs": [
    {
     "name": "stdout",
     "output_type": "stream",
     "text": [
      "Help on built-in function abs in module builtins:\n",
      "\n",
      "abs(x, /)\n",
      "    Return the absolute value of the argument.\n",
      "\n",
      "155\n"
     ]
    }
   ],
   "source": [
    "# 4. Access builtins module: Import abs(), show docs & absolute value\n",
    "\n",
    "# 'builtins' module provides direct access to all 'built-in' identifiers of Python.\n",
    "# Write a Python program that imports the abs() function using the builtins module, displays the documentation of the abs() function and finds the absolute value of -155.\n",
    "\n",
    "import builtins \n",
    "\n",
    "help(builtins.abs)\n",
    "print(builtins.abs(-155))"
   ]
  },
  {
   "cell_type": "code",
   "execution_count": 25,
   "id": "56aee837",
   "metadata": {},
   "outputs": [
    {
     "name": "stdout",
     "output_type": "stream",
     "text": [
      "Function argument names: ('name', 'age', 'major')\n"
     ]
    }
   ],
   "source": [
    "# 5. Define function student() and show argument names using attributes\n",
    "\n",
    "# Define a Python function student(). Using function attributes display the names of all arguments.\n",
    "\n",
    "def student(name, age, major):\n",
    "    pass\n",
    "\n",
    "print(\"Function argument names:\", student.__code__.co_varnames)\n"
   ]
  },
  {
   "cell_type": "code",
   "execution_count": 28,
   "id": "862ffcf8",
   "metadata": {},
   "outputs": [
    {
     "name": "stdout",
     "output_type": "stream",
     "text": [
      "Student ID: 6839732\n",
      "Student Name: Thanapat Laojaroensakul\n",
      "Student ID: 6839701\n",
      "Student Name: A\n",
      "Student Class: ICTS525\n"
     ]
    }
   ],
   "source": [
    "# 6. Define function student_data() to print ID, name, and class if given\n",
    "\n",
    "# Write a Python function student_data () that will print the ID of a student (student_id). If the user passes an argument student_name or student_class the function will print the student name and class.\n",
    "\n",
    "def student_data(student_id, **kwargs):\n",
    "    print(\"Student ID:\", student_id)\n",
    "    if 'student_name' in kwargs:\n",
    "        print(\"Student Name:\", kwargs['student_name'])\n",
    "    if 'student_class' in kwargs:\n",
    "        print(\"Student Class:\", kwargs['student_class'])\n",
    "\n",
    "student_data(student_id='6839732', student_name='Thanapat Laojaroensakul')\n",
    "\n",
    "student_data(student_id='6839701', student_name='A', student_class ='ICTS525')"
   ]
  },
  {
   "cell_type": "code",
   "execution_count": 29,
   "id": "cd04c420",
   "metadata": {},
   "outputs": [
    {
     "name": "stdout",
     "output_type": "stream",
     "text": [
      "Class type: <class 'type'>\n",
      "Class __dict__ keys: dict_keys(['__module__', '__firstlineno__', '__init__', '__static_attributes__', '__dict__', '__weakref__', '__doc__'])\n",
      "Class __module__: __main__\n"
     ]
    }
   ],
   "source": [
    "# 7. Create class Student and display its type, __dict__ keys, and module\n",
    "\n",
    "# Write a simple Python class named Student and display its type. Also, display the __dict__ attribute keys and the value of the __module__ attribute of the Student class.\n",
    "\n",
    "class Student:\n",
    "    def __init__(self, student_id, student_name, student_class):\n",
    "        self.student_id = student_id\n",
    "        self.student_name = student_name\n",
    "        self.student_class = student_class\n",
    "\n",
    "print(\"Class type:\", type(Student))\n",
    "print(\"Class __dict__ keys:\", Student.__dict__.keys())\n",
    "print(\"Class __module__:\", Student.__module__)\n"
   ]
  },
  {
   "cell_type": "code",
   "execution_count": 30,
   "id": "68dfd488",
   "metadata": {},
   "outputs": [
    {
     "name": "stdout",
     "output_type": "stream",
     "text": [
      "Is student_instance an instance of Student? True\n",
      "Is marks_instance an instance of Marks? True\n",
      "Is student_instance an instance of Marks? False\n",
      "Is marks_instance an instance of Student? False\n",
      "Is Student a subclass of object? True\n",
      "Is Marks a subclass of object? True\n"
     ]
    }
   ],
   "source": [
    "# 8. Create empty classes Student and Marks, instantiate them, and check instance and subclass relationships\n",
    "\n",
    "# Write a Python program to create two empty classes, Student and Marks. Now create some instances and check whether they are instances of the said classes or not. Also, check whether the said classes are subclasses of the built-in object class or not.\n",
    "\n",
    "class Student:\n",
    "    pass\n",
    "\n",
    "class Marks:\n",
    "    pass\n",
    "\n",
    "student_instance = Student()\n",
    "marks_instance = Marks()\n",
    "\n",
    "print(\"Is student_instance an instance of Student?\", isinstance(student_instance, Student))\n",
    "print(\"Is marks_instance an instance of Marks?\", isinstance(marks_instance, Marks))\n",
    "print(\"Is student_instance an instance of Marks?\", isinstance(student_instance, Marks))\n",
    "print(\"Is marks_instance an instance of Student?\", isinstance(marks_instance, Student))\n",
    "\n",
    "print(\"Is Student a subclass of object?\", issubclass(Student, object))\n",
    "print(\"Is Marks a subclass of object?\", issubclass(Marks, object))\n"
   ]
  },
  {
   "cell_type": "code",
   "execution_count": 34,
   "id": "340b83cf",
   "metadata": {},
   "outputs": [
    {
     "name": "stdout",
     "output_type": "stream",
     "text": [
      "Original Name: Thanapat Laojaroensakul\n",
      "Original Marks: 85\n",
      "Modified Name: Thanapat Laojaroensakul\n",
      "Modified Marks: 90\n"
     ]
    }
   ],
   "source": [
    "# 9. Create a Class Named Student with Attributes; Modify and Print Original and Modified Values\n",
    "\n",
    "# Write a Python class named Student with two attributes student_name, marks. Modify the attribute values of the said class and print the original and modified values of the said attributes.\n",
    "\n",
    "class Student:\n",
    "    def __init__(self, student_name, marks):\n",
    "        self.student_name = student_name\n",
    "        self.marks = marks\n",
    "\n",
    "student = Student(\"Thanapat Laojaroensakul\", 85)\n",
    "print(\"Original Name:\", student.student_name)\n",
    "print(\"Original Marks:\", student.marks)\n",
    "\n",
    "student.marks = 90\n",
    "\n",
    "print(\"Modified Name:\", student.student_name)\n",
    "print(\"Modified Marks:\", student.marks)\n"
   ]
  },
  {
   "cell_type": "code",
   "execution_count": 40,
   "id": "a736caf6",
   "metadata": {},
   "outputs": [
    {
     "name": "stdout",
     "output_type": "stream",
     "text": [
      "Student ID: 6839732\n",
      "Student Name: Thanapat Laojaroensakul\n",
      "Student Class: ICTS525\n",
      "Student ID: 6839732\n",
      "Student Name: N/A\n",
      "Student Class: ICTS525\n"
     ]
    }
   ],
   "source": [
    "# 10. Create a Class Named Student with Attributes; Add and Remove an Attribute and Display the Attributes\n",
    "\n",
    "# Write a Python class named Student with two attributes student_id, student_name. Add a new attribute student_class and display the entire attribute and the values of the class. Now remove the student_name attribute and display the entire attribute with values.\n",
    "\n",
    "class Student:\n",
    "    def __init__(self, student_id, student_name):\n",
    "        self.student_id = student_id\n",
    "        self.student_name = student_name\n",
    "\n",
    "student = Student(\"6839732\", \"Thanapat Laojaroensakul\")\n",
    "student.student_class = \"ICTS525\"\n",
    "\n",
    "print(\"Student ID:\", student.student_id)\n",
    "print(\"Student Name:\", student.student_name)\n",
    "print(\"Student Class:\", student.student_class)\n",
    "\n",
    "del student.student_name\n",
    "\n",
    "print(\"Student ID:\", student.student_id)\n",
    "print(\"Student Name:\", student.student_name if hasattr(student, 'student_name') else \"N/A\")\n",
    "print(\"Student Class:\", student.student_class)\n"
   ]
  },
  {
   "cell_type": "code",
   "execution_count": null,
   "id": "1e569e5f",
   "metadata": {},
   "outputs": [],
   "source": [
    "# List"
   ]
  },
  {
   "cell_type": "code",
   "execution_count": 47,
   "id": "793f9dd1",
   "metadata": {},
   "outputs": [
    {
     "name": "stdout",
     "output_type": "stream",
     "text": [
      "15\n"
     ]
    }
   ],
   "source": [
    "# 1. Sum Items in List\n",
    "\n",
    "# Write a Python program to sum all the items in a list\n",
    "\n",
    "def sum_list(lst):\n",
    "    total = 0\n",
    "    for item in lst:\n",
    "        total += item\n",
    "    return total\n",
    "\n",
    "\n",
    "print(sum_list([1, 2, 3, 4, 5]))"
   ]
  },
  {
   "cell_type": "code",
   "execution_count": 48,
   "id": "d0235ceb",
   "metadata": {},
   "outputs": [
    {
     "name": "stdout",
     "output_type": "stream",
     "text": [
      "120\n"
     ]
    }
   ],
   "source": [
    "# 2. Multiply Items in List\n",
    "\n",
    "# Write a Python program to multiply all the items in a list.\n",
    "\n",
    "def multiple_list(lst):\n",
    "    total = 1\n",
    "    for item in lst:\n",
    "        total *= item\n",
    "    return total\n",
    "\n",
    "\n",
    "print(multiple_list([1, 2, 3, 4, 5]))"
   ]
  },
  {
   "cell_type": "code",
   "execution_count": 50,
   "id": "7a996000",
   "metadata": {},
   "outputs": [
    {
     "name": "stdout",
     "output_type": "stream",
     "text": [
      "98\n"
     ]
    }
   ],
   "source": [
    "# 3. Get Largest Number in List\n",
    "\n",
    "# Write a Python program to get the largest number from a list.\n",
    "\n",
    "def get_largest_number(lst):\n",
    "    if not lst:\n",
    "        return None\n",
    "    largest = lst[0]\n",
    "    for item in lst:\n",
    "        if item > largest:\n",
    "            largest = item\n",
    "    return largest\n",
    "\n",
    "print(get_largest_number([1, 2, 3, 4, 5, 2, 3, 8, 98, 10, 22]))"
   ]
  },
  {
   "cell_type": "code",
   "execution_count": 52,
   "id": "0b18e1fa",
   "metadata": {},
   "outputs": [
    {
     "name": "stdout",
     "output_type": "stream",
     "text": [
      "-1\n"
     ]
    }
   ],
   "source": [
    "# 4. Get Smallest Number in List\n",
    "\n",
    "# Write a Python program to get the smallest number from a list.\n",
    "\n",
    "def get_smallest_number(lst):\n",
    "    if not lst:\n",
    "        return None\n",
    "    smallest = lst[0]\n",
    "    for item in lst:\n",
    "        if item < smallest:\n",
    "            smallest = item\n",
    "    return smallest\n",
    "\n",
    "print(get_smallest_number([1, 2, 3, -1, 5, 2, 3, 8, 98, 10, 22]))\n"
   ]
  },
  {
   "cell_type": "code",
   "execution_count": 54,
   "id": "20f31c53",
   "metadata": {},
   "outputs": [
    {
     "name": "stdout",
     "output_type": "stream",
     "text": [
      "2\n"
     ]
    }
   ],
   "source": [
    "# 5. Count Strings with Same Start and End\n",
    "\n",
    "# Write a Python program to count the number of strings from a given list of strings. The string length is 2 or more and the first and last characters are the same.\n",
    "# Sample List : ['abc', 'xyz', 'aba', '1221']\n",
    "# Expected Result : 2\n",
    "\n",
    "def count_strings_with_same_start_end(lst):\n",
    "    count = 0\n",
    "    for s in lst:\n",
    "        if len(s) >= 2 and s[0] == s[-1]:\n",
    "            count += 1\n",
    "    return count\n",
    "\n",
    "print(count_strings_with_same_start_end(['abc', 'xyz', 'aba', '1221']))\n"
   ]
  },
  {
   "cell_type": "code",
   "execution_count": 56,
   "id": "3993288c",
   "metadata": {},
   "outputs": [
    {
     "name": "stdout",
     "output_type": "stream",
     "text": [
      "[(2, 1), (1, 2), (2, 3), (4, 4), (2, 5)]\n"
     ]
    }
   ],
   "source": [
    "# 6. Sort Tuples by Last Element\n",
    "\n",
    "# Write a Python program to get a list, sorted in increasing order by the last element in each tuple from a given list of non-empty tuples.\n",
    "# Sample List : [(2, 5), (1, 2), (4, 4), (2, 3), (2, 1)]\n",
    "# Expected Result : [(2, 1), (1, 2), (2, 3), (4, 4), (2, 5)]\n",
    "\n",
    "def sort_tuples_by_last_element(lst):\n",
    "    return sorted(lst, key=lambda x: x[-1])\n",
    "\n",
    "print(sort_tuples_by_last_element([(2, 5), (1, 2), (4, 4), (2, 3), (2, 1)]))"
   ]
  },
  {
   "cell_type": "code",
   "execution_count": 58,
   "id": "db05aab4",
   "metadata": {},
   "outputs": [
    {
     "name": "stdout",
     "output_type": "stream",
     "text": [
      "[1, 2, 3, 4, 5, 98, 8, 10, 22]\n"
     ]
    }
   ],
   "source": [
    "# 7. Remove Duplicates from List\n",
    "\n",
    "# Write a Python program to remove duplicates from a list.\n",
    "\n",
    "def remove_duplicates(lst):\n",
    "    return list(set(lst))\n",
    "\n",
    "print(remove_duplicates([1, 2, 3, 4, 4, 4, 5, 2, 3, 8, 98, 10, 22]))"
   ]
  },
  {
   "cell_type": "code",
   "execution_count": 59,
   "id": "375f3a89",
   "metadata": {},
   "outputs": [
    {
     "name": "stdout",
     "output_type": "stream",
     "text": [
      "True\n",
      "False\n"
     ]
    }
   ],
   "source": [
    "# 8. Check if List is Empty\n",
    "\n",
    "# Write a Python program to check if a list is empty or not.\n",
    "\n",
    "def is_list_empty(lst):\n",
    "    return len(lst) == 0\n",
    "\n",
    "print(is_list_empty([]))\n",
    "print(is_list_empty([1, 2, 3]))"
   ]
  },
  {
   "cell_type": "code",
   "execution_count": 71,
   "id": "4dc23c13",
   "metadata": {},
   "outputs": [
    {
     "name": "stdout",
     "output_type": "stream",
     "text": [
      "This is a new list: [1, 2, 3, 4, 5]\n"
     ]
    }
   ],
   "source": [
    "# 9. Clone or Copy a List\n",
    "\n",
    "# Write a Python program to clone or copy a list.\n",
    "\n",
    "def clone_list(lst):\n",
    "    return lst[:]\n",
    "\n",
    "new_list = clone_list([1, 2, 3, 4, 5])\n",
    "print(\"This is a new list:\", new_list)"
   ]
  },
  {
   "cell_type": "code",
   "execution_count": 74,
   "id": "e475a5c7",
   "metadata": {},
   "outputs": [
    {
     "name": "stdout",
     "output_type": "stream",
     "text": [
      "['banana', 'cherry', 'finally']\n"
     ]
    }
   ],
   "source": [
    "# 10. Find Words Longer Than n\n",
    "\n",
    "# Write a Python program to find the list of words that are longer than n from a given list of words.\n",
    "\n",
    "def find_words_longer_than_n(words, n):\n",
    "    return [word for word in words if len(word) > n]\n",
    "\n",
    "print(find_words_longer_than_n([\"apple\", \"banana\", \"cherry\", \"date\", \"finally\", \"Time\"], 5))\n"
   ]
  },
  {
   "cell_type": "code",
   "execution_count": null,
   "id": "ec590e3e",
   "metadata": {},
   "outputs": [],
   "source": [
    "# Map"
   ]
  },
  {
   "cell_type": "code",
   "execution_count": 75,
   "id": "ca3b7582",
   "metadata": {},
   "outputs": [
    {
     "name": "stdout",
     "output_type": "stream",
     "text": [
      "[3, 6, 9, 12, 15]\n"
     ]
    }
   ],
   "source": [
    "# 1. Triple Numbers Map\n",
    "\n",
    "# Write a Python program to triple all numbers in a given list of integers. Use Python map.\n",
    "\n",
    "def triple_numbers(lst):\n",
    "    return list(map(lambda x: x * 3, lst))\n",
    "\n",
    "print(triple_numbers([1, 2, 3, 4, 5]))"
   ]
  },
  {
   "cell_type": "code",
   "execution_count": 83,
   "id": "d0ad2413",
   "metadata": {},
   "outputs": [
    {
     "name": "stdout",
     "output_type": "stream",
     "text": [
      "[22, 26, 30, 34]\n"
     ]
    }
   ],
   "source": [
    "# 2. Add Three Lists Map Lambda\n",
    "\n",
    "# Write a Python program to add three given lists using Python map and lambda.\n",
    "\n",
    "def add_four_lists(list1, list2, list3, list4):\n",
    "    return list(map(lambda x, y, z, w: x + y + z + w, list1, list2, list3, list4))\n",
    "\n",
    "print(add_four_lists([1, 2, 3, 4], [4, 5, 6, 7], [7, 8, 9, 10], [10, 11, 12, 13]))\n"
   ]
  },
  {
   "cell_type": "code",
   "execution_count": 85,
   "id": "e6e3c449",
   "metadata": {},
   "outputs": [
    {
     "name": "stdout",
     "output_type": "stream",
     "text": [
      "[['a', 'p', 'p', 'l', 'e'], ['b', 'a', 'n', 'a', 'n', 'a'], ['c', 'h', 'e', 'r', 'r', 'y']]\n"
     ]
    }
   ],
   "source": [
    "# 3. Listify Strings Map\n",
    "\n",
    "# Write a Python program to listify the list of given strings individually using Python map.\n",
    "\n",
    "def listify_strings(strings):\n",
    "    return list(map(lambda s: list(s), strings))\n",
    "\n",
    "print(listify_strings([\"apple\", \"banana\", \"cherry\"]))"
   ]
  },
  {
   "cell_type": "code",
   "execution_count": 86,
   "id": "1d7b77f0",
   "metadata": {},
   "outputs": [
    {
     "name": "stdout",
     "output_type": "stream",
     "text": [
      "[1, 3, 16, 125]\n"
     ]
    }
   ],
   "source": [
    "# 4. Power List Map\n",
    "\n",
    "# Write a Python program to create a list containing the power of said number in bases raised to the corresponding number in the index using Python map.\n",
    "\n",
    "def power_list(bases):\n",
    "    return list(map(lambda x, y: x ** y, bases, range(len(bases))))\n",
    "\n",
    "print(power_list([2, 3, 4, 5]))\n"
   ]
  },
  {
   "cell_type": "code",
   "execution_count": 87,
   "id": "550cc2b7",
   "metadata": {},
   "outputs": [
    {
     "name": "stdout",
     "output_type": "stream",
     "text": [
      "[1, 4, 9, 16, 25]\n"
     ]
    }
   ],
   "source": [
    "# 5. Square Elements Map\n",
    "\n",
    "# Write a Python program to square the elements of a list using the map() function.\n",
    "\n",
    "def square_elements(lst):\n",
    "    return list(map(lambda x: x ** 2, lst))\n",
    "\n",
    "\n",
    "print(square_elements([1, 2, 3, 4, 5]))"
   ]
  },
  {
   "cell_type": "code",
   "execution_count": null,
   "id": "5b481d3d",
   "metadata": {},
   "outputs": [
    {
     "name": "stdout",
     "output_type": "stream",
     "text": [
      "Using upper_case_strings :['APPLE', 'BANANA', 'CHERRY'] \n",
      "Using lower_case_strings :['apple', 'banana', 'cherry']\n"
     ]
    }
   ],
   "source": [
    "# 6. Case Conversion & Dedup Map\n",
    "\n",
    "# Write a Python program to convert all the characters into uppercase and lowercase and eliminate duplicate letters from a given sequence. Use the map() function.\n",
    "\n",
    "def upper_case_strings(strings):\n",
    "    return list(map(lambda s: s.upper(), strings))\n",
    "\n",
    "def lower_case_strings(strings):\n",
    "    return list(map(lambda s: s.lower(), strings))\n",
    "\n",
    "print(f\"Using upper_case_strings :{upper_case_strings([\"apple\", \"banana\", \"cherry\"])} \\nUsing lower_case_strings :{lower_case_strings([\"apple\", \"banana\", \"cherry\"])}\")"
   ]
  },
  {
   "cell_type": "code",
   "execution_count": null,
   "id": "44ce53e8",
   "metadata": {},
   "outputs": [
    {
     "name": "stdout",
     "output_type": "stream",
     "text": [
      "[-3, -3, -3]\n"
     ]
    }
   ],
   "source": [
    "# 7. List Addition and Difference Map\n",
    "\n",
    "# Write a Python program to add two given lists and find the difference between them. Use the map() function.\n",
    "\n",
    "def sum_list(list_1,list_2):\n",
    "    return list(map(lambda x, y: x - y, list_1,list_2))\n",
    "\n",
    "\n",
    "print((sum_list([1, 2, 3], [4, 5, 6])))"
   ]
  },
  {
   "cell_type": "code",
   "execution_count": null,
   "id": "8477b986",
   "metadata": {},
   "outputs": [
    {
     "name": "stdout",
     "output_type": "stream",
     "text": [
      "['1', '2', '3']\n",
      "('1', '2', '3')\n"
     ]
    }
   ],
   "source": [
    "# 8. Convert Numbers to Strings Map\n",
    "\n",
    "# Write a Python program to convert a given list of integers and a tuple of integers in a list of strings.\n",
    "\n",
    "def convert_to_string(list1):\n",
    "    input_type = type(list1)\n",
    "    return (list(map(lambda x: str(x), list1)) if input_type is list else tuple(map(lambda x: str(x), list1)))\n",
    "\n",
    "print(convert_to_string([1, 2, 3]))\n",
    "print(convert_to_string((1, 2, 3)))"
   ]
  },
  {
   "cell_type": "code",
   "execution_count": null,
   "id": "df7920ed",
   "metadata": {},
   "outputs": [
    {
     "name": "stdout",
     "output_type": "stream",
     "text": [
      "student_name : ['Thanapat L', 'Tina B', 'Yuta K', 'Lil Nas Y'] student_birth_date : ['10/04/2002', '17/05/2002', '16/02/1999', '25/09/1998'] student_weight : ['65kg', '47kg', '63kg', '78kg']\n"
     ]
    }
   ],
   "source": [
    "#9. Tuple Elements and String to Int Map\n",
    "\n",
    "# Write a Python program to create a new list taking specific elements from a tuple and convert a string value to an integer.\n",
    "\n",
    "student_data  = [('Thanapat L','10/04/2002','65kg'), ('Tina B','17/05/2002','47kg'), ('Yuta K','16/02/1999', '63kg'), ('Lil Nas Y','25/09/1998', '78kg')]\n",
    "\n",
    "def convert_student_data(data):\n",
    "    student_name = list(map(lambda x: (str(x[0])), data))\n",
    "    student_birth_date = list(map(lambda x: (str(x[1])), data))\n",
    "    student_weight = list(map(lambda x: (str(x[2])), data))\n",
    "    return print(\"student_name :\", student_name,\n",
    "        \"student_birth_date :\", student_birth_date,\n",
    "        \"student_weight :\", student_weight)\n",
    "    \n",
    "convert_student_data(student_data)"
   ]
  },
  {
   "cell_type": "code",
   "execution_count": 121,
   "id": "b1b027f1",
   "metadata": {},
   "outputs": [
    {
     "name": "stdout",
     "output_type": "stream",
     "text": [
      "[0, 1, 1, 4, 9, 25, 64, 169, 441, 1156]\n"
     ]
    }
   ],
   "source": [
    "# 10. Square Fibonacci Map\n",
    "\n",
    "# Write a Python program to compute the square of the first N Fibonacci numbers, using the map function and generate a list of the numbers.\n",
    "\n",
    "def fibonacci_sequence(n):\n",
    "    fib = [0, 1]\n",
    "    for i in range(2, n):\n",
    "        fib.append(fib[i-1] + fib[i-2])\n",
    "    return fib\n",
    "\n",
    "def square_fibonacci_numbers(n):\n",
    "    fib_sequence = fibonacci_sequence(n)\n",
    "    squared = list(map(lambda x: x**2, fib_sequence))\n",
    "    return squared\n",
    "\n",
    "print(square_fibonacci_numbers(10))"
   ]
  }
 ],
 "metadata": {
  "kernelspec": {
   "display_name": "Python 3",
   "language": "python",
   "name": "python3"
  },
  "language_info": {
   "codemirror_mode": {
    "name": "ipython",
    "version": 3
   },
   "file_extension": ".py",
   "mimetype": "text/x-python",
   "name": "python",
   "nbconvert_exporter": "python",
   "pygments_lexer": "ipython3",
   "version": "3.13.1"
  }
 },
 "nbformat": 4,
 "nbformat_minor": 5
}
