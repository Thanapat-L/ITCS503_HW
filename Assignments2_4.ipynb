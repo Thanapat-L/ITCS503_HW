{
 "cells": [
  {
   "cell_type": "code",
   "execution_count": null,
   "id": "b35bb54f",
   "metadata": {},
   "outputs": [
    {
     "name": "stdout",
     "output_type": "stream",
     "text": [
      "Adjacency Matrix:\n",
      "0 4 8 0 0 0\n",
      "4 0 5 3 1 0\n",
      "8 5 0 0 9 0\n",
      "0 3 0 0 4 2\n",
      "0 1 9 4 0 6\n",
      "0 0 0 2 6 0\n"
     ]
    },
    {
     "ename": "",
     "evalue": "",
     "output_type": "error",
     "traceback": [
      "\u001b[1;31mThe Kernel crashed while executing code in the current cell or a previous cell. \n",
      "\u001b[1;31mPlease review the code in the cell(s) to identify a possible cause of the failure. \n",
      "\u001b[1;31mClick <a href='https://aka.ms/vscodeJupyterKernelCrash'>here</a> for more info. \n",
      "\u001b[1;31mView Jupyter <a href='command:jupyter.viewOutput'>log</a> for further details."
     ]
    }
   ],
   "source": [
    "# Matrix Representation\n",
    "nodes = ['A','B','C','D','E','F']\n",
    "matrix = [\n",
    "    # A  B  C  D  E  F\n",
    "    [ 0, 4, 8, 0, 0, 0],  # A\n",
    "    [ 4, 0, 5, 3, 1, 0],  # B\n",
    "    [ 8, 5, 0, 0, 9, 0],  # C\n",
    "    [ 0, 3, 0, 0, 4, 2],  # D\n",
    "    [ 0, 1, 9, 4, 0, 6],  # E\n",
    "    [ 0, 0, 0, 2, 6, 0],  # F\n",
    "]\n",
    "\n",
    "#Link list representation\n",
    "list = {\n",
    "    'A': [('B',4), ('C',8)],\n",
    "    'B': [('A',4), ('C',5), ('D',3), ('E',1)],\n",
    "    'C': [('A',8), ('B',5), ('E',9)],\n",
    "    'D': [('B',3), ('E',4), ('F',2)],\n",
    "    'E': [('C',9), ('B',1), ('D',4), ('F',6)],\n",
    "    'F': [('D',2), ('E',6)],\n",
    "}\n",
    "\n",
    "#Dictionary representation\n",
    "dictionary = {\n",
    "    'A': {'B':4, 'C':8},\n",
    "    'B': {'A':4, 'C':5, 'D':3, 'E':1},\n",
    "    'C': {'A':8, 'B':5, 'E':9},\n",
    "    'D': {'B':3, 'E':4, 'F':2},\n",
    "    'E': {'C':9, 'B':1, 'D':4, 'F':6},\n",
    "    'F': {'D':2, 'E':6},\n",
    "}\n",
    "\n"
   ]
  }
 ],
 "metadata": {
  "kernelspec": {
   "display_name": "Python 3",
   "language": "python",
   "name": "python3"
  },
  "language_info": {
   "codemirror_mode": {
    "name": "ipython",
    "version": 3
   },
   "file_extension": ".py",
   "mimetype": "text/x-python",
   "name": "python",
   "nbconvert_exporter": "python",
   "pygments_lexer": "ipython3",
   "version": "3.13.1"
  }
 },
 "nbformat": 4,
 "nbformat_minor": 5
}
