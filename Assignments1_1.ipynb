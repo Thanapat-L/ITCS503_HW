{
 "cells": [
  {
   "cell_type": "markdown",
   "id": "ab4e2d61",
   "metadata": {},
   "source": [
    "# Homework\n",
    "Come up with heuristics and an algorithm to convert numbers in base-2 to base-10 and vice versa.\n",
    "\n",
    "---\n",
    "\n",
    "## 1. Base-10 to Base-2\n",
    "\n",
    "**Example:** Convert base-10 number `7` into base-2.\n",
    "\n",
    "We know that **7 = 1 + 1 + 1 + ... (7 times)**.  \n",
    "And we know that base-2 can only be bit `0` and `1`.  \n",
    "\n",
    "At the beginning, base-2 will be `0`.  \n",
    "Then we add `1` at a time:\n",
    "\n",
    "- For the 1st time → `0001`  \n",
    "- For the 2nd time → `0010`  \n",
    "- For the 3rd time → `0011`  \n",
    "- For the 4th time → `0100`  \n",
    "- … until the 7th time.\n",
    "\n",
    "Since there are only `0` and `1`, and the lowest position is already `1`,  \n",
    "we will move `1` to the front and let every number as `0` if there is no `0` left to add anymore.\n",
    "\n",
    "So, **7 (base-10) = 111 (base-2).**\n",
    "\n",
    "---\n",
    "\n",
    "## Other way: Base-10 to Base-2 using division\n",
    "\n",
    "**Example:** Convert base-10 number `12` into base-2.\n",
    "\n",
    "We know that base-2 can only be `0` and `1`.  \n",
    "So, we can use **2 as a divisor** to find the remainder:\n",
    "\n",
    "2 | 12 → remainder 0\n",
    "2 | 6 → remainder 0\n",
    "2 | 3 → remainder 1\n",
    "1 → remainder 1\n",
    "\n",
    "\n",
    "Now, if we read the remainders from bottom to top:  \n",
    "**12 (base-10) = 1100 (base-2).**\n",
    "\n",
    "\n"
   ]
  }
 ],
 "metadata": {
  "language_info": {
   "name": "python"
  }
 },
 "nbformat": 4,
 "nbformat_minor": 5
}
