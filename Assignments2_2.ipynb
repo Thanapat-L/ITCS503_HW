{
 "cells": [
  {
   "cell_type": "code",
   "execution_count": 4,
   "id": "495642bc",
   "metadata": {},
   "outputs": [
    {
     "name": "stdout",
     "output_type": "stream",
     "text": [
      "F\n"
     ]
    }
   ],
   "source": [
    "# 1. Write a function that plays a game of merry-go-round\n",
    "# merry_go_round(set) for a set of 7 people {A, B, C, D, E, F, G} using\n",
    "# regular queue and deque data structure. Randomly pick a person to\n",
    "# start at the pin needle, then toss a dice. Assume that the dice returns\n",
    "# the number M. The needle will step to the next person for M times.\n",
    "# The function must return the name of the person selected by the\n",
    "# wheel.\n",
    "\n",
    "import random\n",
    "from collections import deque\n",
    "\n",
    "def merry_go_round(set):\n",
    "    # Create a deque from the set of people\n",
    "    people = list(set)\n",
    "    dq = deque(people)\n",
    "\n",
    "    # Randomly rotate the deque to start from a random person\n",
    "    start_idx = random.randrange(len(dq))\n",
    "    dq.rotate(-start_idx)\n",
    "    \n",
    "    # Randomly select a number of dice and how much to rotate\n",
    "    dice = random.randint(1,6)\n",
    "    dq.rotate(-dice)\n",
    "    \n",
    "    return dq[0]\n",
    "    \n",
    "\n",
    "print(merry_go_round({'A', 'B', 'C', 'D', 'E', 'F', 'G'}))\n",
    "\n",
    "\n"
   ]
  },
  {
   "cell_type": "code",
   "execution_count": null,
   "id": "13bc3648",
   "metadata": {},
   "outputs": [
    {
     "name": "stdout",
     "output_type": "stream",
     "text": [
      "Get A after 10 spins.\n",
      "Get A after 7 spins.\n",
      "Get A after 1 spins.\n",
      "Get A after 18 spins.\n",
      "Get A after 5 spins.\n",
      "Get A after 15 spins.\n",
      "Get A after 11 spins.\n",
      "Get A after 20 spins.\n",
      "Get A after 5 spins.\n",
      "Get A after 54 spins.\n",
      "14.6\n"
     ]
    }
   ],
   "source": [
    "# 2. Write another function related to 1 that will return the average\n",
    "# number of wheel spinings for an individual to be selected\n",
    "# wheel_count(str names, list_of_names).\n",
    "\n",
    "def wheel_count(target_name, list_of_names, trials):\n",
    "    #Create a variable to store the total number of spins\n",
    "    total_spins = 0\n",
    "    #Run the simulation for a number of trials\n",
    "    for _ in range(trials):\n",
    "        spins = 0\n",
    "        #Keep spinning until the target name is selected\n",
    "        while True:\n",
    "            spins += 1\n",
    "            result = merry_go_round(set(list_of_names))\n",
    "            if result == target_name:\n",
    "                print(f\"Get {target_name} after {spins} spins.\")\n",
    "                break\n",
    "        total_spins += spins\n",
    "\n",
    "    # Return the average number of spins\n",
    "    return total_spins / trials\n",
    "\n",
    "print(wheel_count('A', ['A', 'B', 'C', 'D', 'E', 'F', 'G'], 10))\n"
   ]
  }
 ],
 "metadata": {
  "kernelspec": {
   "display_name": "Python 3",
   "language": "python",
   "name": "python3"
  },
  "language_info": {
   "codemirror_mode": {
    "name": "ipython",
    "version": 3
   },
   "file_extension": ".py",
   "mimetype": "text/x-python",
   "name": "python",
   "nbconvert_exporter": "python",
   "pygments_lexer": "ipython3",
   "version": "3.13.1"
  }
 },
 "nbformat": 4,
 "nbformat_minor": 5
}
